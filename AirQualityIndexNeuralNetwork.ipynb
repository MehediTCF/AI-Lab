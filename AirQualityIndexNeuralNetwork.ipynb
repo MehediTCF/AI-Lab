{
  "nbformat": 4,
  "nbformat_minor": 0,
  "metadata": {
    "colab": {
      "name": "AirQualityIndexNeuralNetwork.ipynb",
      "provenance": [],
      "collapsed_sections": [],
      "authorship_tag": "ABX9TyP31W4tcCJyteKqrYnobbjv",
      "include_colab_link": true
    },
    "kernelspec": {
      "name": "python3",
      "display_name": "Python 3"
    }
  },
  "cells": [
    {
      "cell_type": "markdown",
      "metadata": {
        "id": "view-in-github",
        "colab_type": "text"
      },
      "source": [
        "<a href=\"https://colab.research.google.com/github/MehediTCF/AI-Lab/blob/main/AirQualityIndexNeuralNetwork.ipynb\" target=\"_parent\"><img src=\"https://colab.research.google.com/assets/colab-badge.svg\" alt=\"Open In Colab\"/></a>"
      ]
    },
    {
      "cell_type": "code",
      "metadata": {
        "id": "VMfKjGUoukh7"
      },
      "source": [
        "import matplotlib.pyplot as plt\r\n",
        "import numpy as np\r\n",
        "import pandas as pd\r\n",
        "import seaborn as sns\r\n",
        "from sklearn.model_selection import train_test_split\r\n",
        "from sklearn.metrics import mean_squared_error\r\n",
        "from sklearn.metrics import mean_absolute_error\r\n",
        "%matplotlib inline"
      ],
      "execution_count": 3,
      "outputs": []
    },
    {
      "cell_type": "code",
      "metadata": {
        "colab": {
          "resources": {
            "http://localhost:8080/nbextensions/google.colab/files.js": {
              "data": "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",
              "ok": true,
              "headers": [
                [
                  "content-type",
                  "application/javascript"
                ]
              ],
              "status": 200,
              "status_text": ""
            }
          },
          "base_uri": "https://localhost:8080/",
          "height": 73
        },
        "id": "c5Y5fFGAvVBb",
        "outputId": "9cb17438-adb3-486b-a8c7-25149d94225a"
      },
      "source": [
        "from google.colab import files\r\n",
        "uploaded = files.upload()"
      ],
      "execution_count": 4,
      "outputs": [
        {
          "output_type": "display_data",
          "data": {
            "text/html": [
              "\n",
              "     <input type=\"file\" id=\"files-14bbf65a-b829-45a2-ad9c-6e3549d40d24\" name=\"files[]\" multiple disabled\n",
              "        style=\"border:none\" />\n",
              "     <output id=\"result-14bbf65a-b829-45a2-ad9c-6e3549d40d24\">\n",
              "      Upload widget is only available when the cell has been executed in the\n",
              "      current browser session. Please rerun this cell to enable.\n",
              "      </output>\n",
              "      <script src=\"/nbextensions/google.colab/files.js\"></script> "
            ],
            "text/plain": [
              "<IPython.core.display.HTML object>"
            ]
          },
          "metadata": {
            "tags": []
          }
        },
        {
          "output_type": "stream",
          "text": [
            "Saving AirQualityUCI.xlsx to AirQualityUCI (1).xlsx\n"
          ],
          "name": "stdout"
        }
      ]
    },
    {
      "cell_type": "code",
      "metadata": {
        "id": "NaQO_x-cvlup"
      },
      "source": [
        "air_data = pd.read_excel('AirQualityUCI.xlsx')"
      ],
      "execution_count": 5,
      "outputs": []
    },
    {
      "cell_type": "code",
      "metadata": {
        "colab": {
          "base_uri": "https://localhost:8080/",
          "height": 309
        },
        "id": "XLfhYG_Ovzj5",
        "outputId": "7979062e-9e69-44a8-f7e7-15858adf1472"
      },
      "source": [
        "air_data.head()\r\n"
      ],
      "execution_count": 6,
      "outputs": [
        {
          "output_type": "execute_result",
          "data": {
            "text/html": [
              "<div>\n",
              "<style scoped>\n",
              "    .dataframe tbody tr th:only-of-type {\n",
              "        vertical-align: middle;\n",
              "    }\n",
              "\n",
              "    .dataframe tbody tr th {\n",
              "        vertical-align: top;\n",
              "    }\n",
              "\n",
              "    .dataframe thead th {\n",
              "        text-align: right;\n",
              "    }\n",
              "</style>\n",
              "<table border=\"1\" class=\"dataframe\">\n",
              "  <thead>\n",
              "    <tr style=\"text-align: right;\">\n",
              "      <th></th>\n",
              "      <th>Date</th>\n",
              "      <th>Time</th>\n",
              "      <th>CO(GT)</th>\n",
              "      <th>PT08.S1(CO)</th>\n",
              "      <th>NMHC(GT)</th>\n",
              "      <th>C6H6(GT)</th>\n",
              "      <th>PT08.S2(NMHC)</th>\n",
              "      <th>NOx(GT)</th>\n",
              "      <th>PT08.S3(NOx)</th>\n",
              "      <th>NO2(GT)</th>\n",
              "      <th>PT08.S4(NO2)</th>\n",
              "      <th>PT08.S5(O3)</th>\n",
              "      <th>T</th>\n",
              "      <th>RH</th>\n",
              "      <th>AH</th>\n",
              "    </tr>\n",
              "  </thead>\n",
              "  <tbody>\n",
              "    <tr>\n",
              "      <th>0</th>\n",
              "      <td>2004-03-10</td>\n",
              "      <td>18:00:00</td>\n",
              "      <td>2.6</td>\n",
              "      <td>1360.00</td>\n",
              "      <td>150</td>\n",
              "      <td>11.881723</td>\n",
              "      <td>1045.50</td>\n",
              "      <td>166.0</td>\n",
              "      <td>1056.25</td>\n",
              "      <td>113.0</td>\n",
              "      <td>1692.00</td>\n",
              "      <td>1267.50</td>\n",
              "      <td>13.60</td>\n",
              "      <td>48.875001</td>\n",
              "      <td>0.757754</td>\n",
              "    </tr>\n",
              "    <tr>\n",
              "      <th>1</th>\n",
              "      <td>2004-03-10</td>\n",
              "      <td>19:00:00</td>\n",
              "      <td>2.0</td>\n",
              "      <td>1292.25</td>\n",
              "      <td>112</td>\n",
              "      <td>9.397165</td>\n",
              "      <td>954.75</td>\n",
              "      <td>103.0</td>\n",
              "      <td>1173.75</td>\n",
              "      <td>92.0</td>\n",
              "      <td>1558.75</td>\n",
              "      <td>972.25</td>\n",
              "      <td>13.30</td>\n",
              "      <td>47.700000</td>\n",
              "      <td>0.725487</td>\n",
              "    </tr>\n",
              "    <tr>\n",
              "      <th>2</th>\n",
              "      <td>2004-03-10</td>\n",
              "      <td>20:00:00</td>\n",
              "      <td>2.2</td>\n",
              "      <td>1402.00</td>\n",
              "      <td>88</td>\n",
              "      <td>8.997817</td>\n",
              "      <td>939.25</td>\n",
              "      <td>131.0</td>\n",
              "      <td>1140.00</td>\n",
              "      <td>114.0</td>\n",
              "      <td>1554.50</td>\n",
              "      <td>1074.00</td>\n",
              "      <td>11.90</td>\n",
              "      <td>53.975000</td>\n",
              "      <td>0.750239</td>\n",
              "    </tr>\n",
              "    <tr>\n",
              "      <th>3</th>\n",
              "      <td>2004-03-10</td>\n",
              "      <td>21:00:00</td>\n",
              "      <td>2.2</td>\n",
              "      <td>1375.50</td>\n",
              "      <td>80</td>\n",
              "      <td>9.228796</td>\n",
              "      <td>948.25</td>\n",
              "      <td>172.0</td>\n",
              "      <td>1092.00</td>\n",
              "      <td>122.0</td>\n",
              "      <td>1583.75</td>\n",
              "      <td>1203.25</td>\n",
              "      <td>11.00</td>\n",
              "      <td>60.000000</td>\n",
              "      <td>0.786713</td>\n",
              "    </tr>\n",
              "    <tr>\n",
              "      <th>4</th>\n",
              "      <td>2004-03-10</td>\n",
              "      <td>22:00:00</td>\n",
              "      <td>1.6</td>\n",
              "      <td>1272.25</td>\n",
              "      <td>51</td>\n",
              "      <td>6.518224</td>\n",
              "      <td>835.50</td>\n",
              "      <td>131.0</td>\n",
              "      <td>1205.00</td>\n",
              "      <td>116.0</td>\n",
              "      <td>1490.00</td>\n",
              "      <td>1110.00</td>\n",
              "      <td>11.15</td>\n",
              "      <td>59.575001</td>\n",
              "      <td>0.788794</td>\n",
              "    </tr>\n",
              "  </tbody>\n",
              "</table>\n",
              "</div>"
            ],
            "text/plain": [
              "        Date      Time  CO(GT)  ...      T         RH        AH\n",
              "0 2004-03-10  18:00:00     2.6  ...  13.60  48.875001  0.757754\n",
              "1 2004-03-10  19:00:00     2.0  ...  13.30  47.700000  0.725487\n",
              "2 2004-03-10  20:00:00     2.2  ...  11.90  53.975000  0.750239\n",
              "3 2004-03-10  21:00:00     2.2  ...  11.00  60.000000  0.786713\n",
              "4 2004-03-10  22:00:00     1.6  ...  11.15  59.575001  0.788794\n",
              "\n",
              "[5 rows x 15 columns]"
            ]
          },
          "metadata": {
            "tags": []
          },
          "execution_count": 6
        }
      ]
    },
    {
      "cell_type": "code",
      "metadata": {
        "colab": {
          "base_uri": "https://localhost:8080/"
        },
        "id": "V5Fu3jG5v4PB",
        "outputId": "7ce2503a-3025-47c1-d1d9-65ce63ec79a6"
      },
      "source": [
        "air_data.shape"
      ],
      "execution_count": 7,
      "outputs": [
        {
          "output_type": "execute_result",
          "data": {
            "text/plain": [
              "(9357, 15)"
            ]
          },
          "metadata": {
            "tags": []
          },
          "execution_count": 7
        }
      ]
    },
    {
      "cell_type": "code",
      "metadata": {
        "colab": {
          "base_uri": "https://localhost:8080/",
          "height": 314
        },
        "id": "sD9DHjr1v6eJ",
        "outputId": "638391c8-ba18-49bf-b720-2873a894a0b5"
      },
      "source": [
        "air_data.describe()\r\n"
      ],
      "execution_count": 8,
      "outputs": [
        {
          "output_type": "execute_result",
          "data": {
            "text/html": [
              "<div>\n",
              "<style scoped>\n",
              "    .dataframe tbody tr th:only-of-type {\n",
              "        vertical-align: middle;\n",
              "    }\n",
              "\n",
              "    .dataframe tbody tr th {\n",
              "        vertical-align: top;\n",
              "    }\n",
              "\n",
              "    .dataframe thead th {\n",
              "        text-align: right;\n",
              "    }\n",
              "</style>\n",
              "<table border=\"1\" class=\"dataframe\">\n",
              "  <thead>\n",
              "    <tr style=\"text-align: right;\">\n",
              "      <th></th>\n",
              "      <th>CO(GT)</th>\n",
              "      <th>PT08.S1(CO)</th>\n",
              "      <th>NMHC(GT)</th>\n",
              "      <th>C6H6(GT)</th>\n",
              "      <th>PT08.S2(NMHC)</th>\n",
              "      <th>NOx(GT)</th>\n",
              "      <th>PT08.S3(NOx)</th>\n",
              "      <th>NO2(GT)</th>\n",
              "      <th>PT08.S4(NO2)</th>\n",
              "      <th>PT08.S5(O3)</th>\n",
              "      <th>T</th>\n",
              "      <th>RH</th>\n",
              "      <th>AH</th>\n",
              "    </tr>\n",
              "  </thead>\n",
              "  <tbody>\n",
              "    <tr>\n",
              "      <th>count</th>\n",
              "      <td>9357.000000</td>\n",
              "      <td>9357.000000</td>\n",
              "      <td>9357.000000</td>\n",
              "      <td>9357.000000</td>\n",
              "      <td>9357.000000</td>\n",
              "      <td>9357.000000</td>\n",
              "      <td>9357.000000</td>\n",
              "      <td>9357.000000</td>\n",
              "      <td>9357.000000</td>\n",
              "      <td>9357.000000</td>\n",
              "      <td>9357.000000</td>\n",
              "      <td>9357.000000</td>\n",
              "      <td>9357.000000</td>\n",
              "    </tr>\n",
              "    <tr>\n",
              "      <th>mean</th>\n",
              "      <td>-34.207524</td>\n",
              "      <td>1048.869652</td>\n",
              "      <td>-159.090093</td>\n",
              "      <td>1.865576</td>\n",
              "      <td>894.475963</td>\n",
              "      <td>168.604200</td>\n",
              "      <td>794.872333</td>\n",
              "      <td>58.135898</td>\n",
              "      <td>1391.363266</td>\n",
              "      <td>974.951534</td>\n",
              "      <td>9.776600</td>\n",
              "      <td>39.483611</td>\n",
              "      <td>-6.837604</td>\n",
              "    </tr>\n",
              "    <tr>\n",
              "      <th>std</th>\n",
              "      <td>77.657170</td>\n",
              "      <td>329.817015</td>\n",
              "      <td>139.789093</td>\n",
              "      <td>41.380154</td>\n",
              "      <td>342.315902</td>\n",
              "      <td>257.424561</td>\n",
              "      <td>321.977031</td>\n",
              "      <td>126.931428</td>\n",
              "      <td>467.192382</td>\n",
              "      <td>456.922728</td>\n",
              "      <td>43.203438</td>\n",
              "      <td>51.215645</td>\n",
              "      <td>38.976670</td>\n",
              "    </tr>\n",
              "    <tr>\n",
              "      <th>min</th>\n",
              "      <td>-200.000000</td>\n",
              "      <td>-200.000000</td>\n",
              "      <td>-200.000000</td>\n",
              "      <td>-200.000000</td>\n",
              "      <td>-200.000000</td>\n",
              "      <td>-200.000000</td>\n",
              "      <td>-200.000000</td>\n",
              "      <td>-200.000000</td>\n",
              "      <td>-200.000000</td>\n",
              "      <td>-200.000000</td>\n",
              "      <td>-200.000000</td>\n",
              "      <td>-200.000000</td>\n",
              "      <td>-200.000000</td>\n",
              "    </tr>\n",
              "    <tr>\n",
              "      <th>25%</th>\n",
              "      <td>0.600000</td>\n",
              "      <td>921.000000</td>\n",
              "      <td>-200.000000</td>\n",
              "      <td>4.004958</td>\n",
              "      <td>711.000000</td>\n",
              "      <td>50.000000</td>\n",
              "      <td>637.000000</td>\n",
              "      <td>53.000000</td>\n",
              "      <td>1184.750000</td>\n",
              "      <td>699.750000</td>\n",
              "      <td>10.950000</td>\n",
              "      <td>34.050000</td>\n",
              "      <td>0.692275</td>\n",
              "    </tr>\n",
              "    <tr>\n",
              "      <th>50%</th>\n",
              "      <td>1.500000</td>\n",
              "      <td>1052.500000</td>\n",
              "      <td>-200.000000</td>\n",
              "      <td>7.886653</td>\n",
              "      <td>894.500000</td>\n",
              "      <td>141.000000</td>\n",
              "      <td>794.250000</td>\n",
              "      <td>96.000000</td>\n",
              "      <td>1445.500000</td>\n",
              "      <td>942.000000</td>\n",
              "      <td>17.200000</td>\n",
              "      <td>48.550000</td>\n",
              "      <td>0.976823</td>\n",
              "    </tr>\n",
              "    <tr>\n",
              "      <th>75%</th>\n",
              "      <td>2.600000</td>\n",
              "      <td>1221.250000</td>\n",
              "      <td>-200.000000</td>\n",
              "      <td>13.636091</td>\n",
              "      <td>1104.750000</td>\n",
              "      <td>284.200000</td>\n",
              "      <td>960.250000</td>\n",
              "      <td>133.000000</td>\n",
              "      <td>1662.000000</td>\n",
              "      <td>1255.250000</td>\n",
              "      <td>24.075000</td>\n",
              "      <td>61.875000</td>\n",
              "      <td>1.296223</td>\n",
              "    </tr>\n",
              "    <tr>\n",
              "      <th>max</th>\n",
              "      <td>11.900000</td>\n",
              "      <td>2039.750000</td>\n",
              "      <td>1189.000000</td>\n",
              "      <td>63.741476</td>\n",
              "      <td>2214.000000</td>\n",
              "      <td>1479.000000</td>\n",
              "      <td>2682.750000</td>\n",
              "      <td>339.700000</td>\n",
              "      <td>2775.000000</td>\n",
              "      <td>2522.750000</td>\n",
              "      <td>44.600000</td>\n",
              "      <td>88.725000</td>\n",
              "      <td>2.231036</td>\n",
              "    </tr>\n",
              "  </tbody>\n",
              "</table>\n",
              "</div>"
            ],
            "text/plain": [
              "            CO(GT)  PT08.S1(CO)  ...           RH           AH\n",
              "count  9357.000000  9357.000000  ...  9357.000000  9357.000000\n",
              "mean    -34.207524  1048.869652  ...    39.483611    -6.837604\n",
              "std      77.657170   329.817015  ...    51.215645    38.976670\n",
              "min    -200.000000  -200.000000  ...  -200.000000  -200.000000\n",
              "25%       0.600000   921.000000  ...    34.050000     0.692275\n",
              "50%       1.500000  1052.500000  ...    48.550000     0.976823\n",
              "75%       2.600000  1221.250000  ...    61.875000     1.296223\n",
              "max      11.900000  2039.750000  ...    88.725000     2.231036\n",
              "\n",
              "[8 rows x 13 columns]"
            ]
          },
          "metadata": {
            "tags": []
          },
          "execution_count": 8
        }
      ]
    },
    {
      "cell_type": "code",
      "metadata": {
        "colab": {
          "base_uri": "https://localhost:8080/"
        },
        "id": "yQkCunUywA_S",
        "outputId": "9110a6c3-2de1-44d4-b4b5-b9c095444a39"
      },
      "source": [
        "air_data.columns"
      ],
      "execution_count": 9,
      "outputs": [
        {
          "output_type": "execute_result",
          "data": {
            "text/plain": [
              "Index(['Date', 'Time', 'CO(GT)', 'PT08.S1(CO)', 'NMHC(GT)', 'C6H6(GT)',\n",
              "       'PT08.S2(NMHC)', 'NOx(GT)', 'PT08.S3(NOx)', 'NO2(GT)', 'PT08.S4(NO2)',\n",
              "       'PT08.S5(O3)', 'T', 'RH', 'AH'],\n",
              "      dtype='object')"
            ]
          },
          "metadata": {
            "tags": []
          },
          "execution_count": 9
        }
      ]
    },
    {
      "cell_type": "code",
      "metadata": {
        "colab": {
          "base_uri": "https://localhost:8080/",
          "height": 636
        },
        "id": "TIIswx4ywGui",
        "outputId": "705b3aaa-b6f4-4d06-d8a7-3ae24565d7f6"
      },
      "source": [
        "from sklearn.preprocessing import StandardScaler\r\n",
        "scalar = StandardScaler()\r\n",
        "sns.set(style='whitegrid', context='notebook')\r\n",
        "features_plot = ['C6H6(GT)', 'RH', 'AH', 'PT08.S1(CO)']\r\n",
        "\r\n",
        "data_to_plot = air_data[features_plot]\r\n",
        "data_to_plot = scalar.fit_transform(data_to_plot)\r\n",
        "data_to_plot = pd.DataFrame(data_to_plot)\r\n",
        "\r\n",
        "sns.pairplot(data_to_plot, size=2.0);\r\n",
        "plt.tight_layout()\r\n",
        "plt.show()"
      ],
      "execution_count": 11,
      "outputs": [
        {
          "output_type": "stream",
          "text": [
            "/usr/local/lib/python3.6/dist-packages/seaborn/axisgrid.py:1969: UserWarning: The `size` parameter has been renamed to `height`; please update your code.\n",
            "  warnings.warn(msg, UserWarning)\n"
          ],
          "name": "stderr"
        },
        {
          "output_type": "display_data",
          "data": {
            "image/png": "[encoded data removed]",
            "text/plain": [
              "<Figure size 576x576 with 20 Axes>"
            ]
          },
          "metadata": {
            "tags": []
          }
        }
      ]
    },
    {
      "cell_type": "code",
      "metadata": {
        "colab": {
          "base_uri": "https://localhost:8080/",
          "height": 609
        },
        "id": "SM0r5jY8wVGa",
        "outputId": "cdb50621-fd23-41f7-8a8f-7e8e303dc356"
      },
      "source": [
        "#preprocessing data\r\n",
        "air_data.dropna(axis=0, how='all')\r\n"
      ],
      "execution_count": 13,
      "outputs": [
        {
          "output_type": "execute_result",
          "data": {
            "text/html": [
              "<div>\n",
              "<style scoped>\n",
              "    .dataframe tbody tr th:only-of-type {\n",
              "        vertical-align: middle;\n",
              "    }\n",
              "\n",
              "    .dataframe tbody tr th {\n",
              "        vertical-align: top;\n",
              "    }\n",
              "\n",
              "    .dataframe thead th {\n",
              "        text-align: right;\n",
              "    }\n",
              "</style>\n",
              "<table border=\"1\" class=\"dataframe\">\n",
              "  <thead>\n",
              "    <tr style=\"text-align: right;\">\n",
              "      <th></th>\n",
              "      <th>Date</th>\n",
              "      <th>Time</th>\n",
              "      <th>CO(GT)</th>\n",
              "      <th>PT08.S1(CO)</th>\n",
              "      <th>NMHC(GT)</th>\n",
              "      <th>C6H6(GT)</th>\n",
              "      <th>PT08.S2(NMHC)</th>\n",
              "      <th>NOx(GT)</th>\n",
              "      <th>PT08.S3(NOx)</th>\n",
              "      <th>NO2(GT)</th>\n",
              "      <th>PT08.S4(NO2)</th>\n",
              "      <th>PT08.S5(O3)</th>\n",
              "      <th>T</th>\n",
              "      <th>RH</th>\n",
              "      <th>AH</th>\n",
              "    </tr>\n",
              "  </thead>\n",
              "  <tbody>\n",
              "    <tr>\n",
              "      <th>0</th>\n",
              "      <td>2004-03-10</td>\n",
              "      <td>18:00:00</td>\n",
              "      <td>2.6</td>\n",
              "      <td>1360.00</td>\n",
              "      <td>150</td>\n",
              "      <td>11.881723</td>\n",
              "      <td>1045.50</td>\n",
              "      <td>166.0</td>\n",
              "      <td>1056.25</td>\n",
              "      <td>113.0</td>\n",
              "      <td>1692.00</td>\n",
              "      <td>1267.50</td>\n",
              "      <td>13.600</td>\n",
              "      <td>48.875001</td>\n",
              "      <td>0.757754</td>\n",
              "    </tr>\n",
              "    <tr>\n",
              "      <th>1</th>\n",
              "      <td>2004-03-10</td>\n",
              "      <td>19:00:00</td>\n",
              "      <td>2.0</td>\n",
              "      <td>1292.25</td>\n",
              "      <td>112</td>\n",
              "      <td>9.397165</td>\n",
              "      <td>954.75</td>\n",
              "      <td>103.0</td>\n",
              "      <td>1173.75</td>\n",
              "      <td>92.0</td>\n",
              "      <td>1558.75</td>\n",
              "      <td>972.25</td>\n",
              "      <td>13.300</td>\n",
              "      <td>47.700000</td>\n",
              "      <td>0.725487</td>\n",
              "    </tr>\n",
              "    <tr>\n",
              "      <th>2</th>\n",
              "      <td>2004-03-10</td>\n",
              "      <td>20:00:00</td>\n",
              "      <td>2.2</td>\n",
              "      <td>1402.00</td>\n",
              "      <td>88</td>\n",
              "      <td>8.997817</td>\n",
              "      <td>939.25</td>\n",
              "      <td>131.0</td>\n",
              "      <td>1140.00</td>\n",
              "      <td>114.0</td>\n",
              "      <td>1554.50</td>\n",
              "      <td>1074.00</td>\n",
              "      <td>11.900</td>\n",
              "      <td>53.975000</td>\n",
              "      <td>0.750239</td>\n",
              "    </tr>\n",
              "    <tr>\n",
              "      <th>3</th>\n",
              "      <td>2004-03-10</td>\n",
              "      <td>21:00:00</td>\n",
              "      <td>2.2</td>\n",
              "      <td>1375.50</td>\n",
              "      <td>80</td>\n",
              "      <td>9.228796</td>\n",
              "      <td>948.25</td>\n",
              "      <td>172.0</td>\n",
              "      <td>1092.00</td>\n",
              "      <td>122.0</td>\n",
              "      <td>1583.75</td>\n",
              "      <td>1203.25</td>\n",
              "      <td>11.000</td>\n",
              "      <td>60.000000</td>\n",
              "      <td>0.786713</td>\n",
              "    </tr>\n",
              "    <tr>\n",
              "      <th>4</th>\n",
              "      <td>2004-03-10</td>\n",
              "      <td>22:00:00</td>\n",
              "      <td>1.6</td>\n",
              "      <td>1272.25</td>\n",
              "      <td>51</td>\n",
              "      <td>6.518224</td>\n",
              "      <td>835.50</td>\n",
              "      <td>131.0</td>\n",
              "      <td>1205.00</td>\n",
              "      <td>116.0</td>\n",
              "      <td>1490.00</td>\n",
              "      <td>1110.00</td>\n",
              "      <td>11.150</td>\n",
              "      <td>59.575001</td>\n",
              "      <td>0.788794</td>\n",
              "    </tr>\n",
              "    <tr>\n",
              "      <th>...</th>\n",
              "      <td>...</td>\n",
              "      <td>...</td>\n",
              "      <td>...</td>\n",
              "      <td>...</td>\n",
              "      <td>...</td>\n",
              "      <td>...</td>\n",
              "      <td>...</td>\n",
              "      <td>...</td>\n",
              "      <td>...</td>\n",
              "      <td>...</td>\n",
              "      <td>...</td>\n",
              "      <td>...</td>\n",
              "      <td>...</td>\n",
              "      <td>...</td>\n",
              "      <td>...</td>\n",
              "    </tr>\n",
              "    <tr>\n",
              "      <th>9352</th>\n",
              "      <td>2005-04-04</td>\n",
              "      <td>10:00:00</td>\n",
              "      <td>3.1</td>\n",
              "      <td>1314.25</td>\n",
              "      <td>-200</td>\n",
              "      <td>13.529605</td>\n",
              "      <td>1101.25</td>\n",
              "      <td>471.7</td>\n",
              "      <td>538.50</td>\n",
              "      <td>189.8</td>\n",
              "      <td>1374.25</td>\n",
              "      <td>1728.50</td>\n",
              "      <td>21.850</td>\n",
              "      <td>29.250000</td>\n",
              "      <td>0.756824</td>\n",
              "    </tr>\n",
              "    <tr>\n",
              "      <th>9353</th>\n",
              "      <td>2005-04-04</td>\n",
              "      <td>11:00:00</td>\n",
              "      <td>2.4</td>\n",
              "      <td>1162.50</td>\n",
              "      <td>-200</td>\n",
              "      <td>11.355157</td>\n",
              "      <td>1027.00</td>\n",
              "      <td>353.3</td>\n",
              "      <td>603.75</td>\n",
              "      <td>179.2</td>\n",
              "      <td>1263.50</td>\n",
              "      <td>1269.00</td>\n",
              "      <td>24.325</td>\n",
              "      <td>23.725000</td>\n",
              "      <td>0.711864</td>\n",
              "    </tr>\n",
              "    <tr>\n",
              "      <th>9354</th>\n",
              "      <td>2005-04-04</td>\n",
              "      <td>12:00:00</td>\n",
              "      <td>2.4</td>\n",
              "      <td>1142.00</td>\n",
              "      <td>-200</td>\n",
              "      <td>12.374538</td>\n",
              "      <td>1062.50</td>\n",
              "      <td>293.0</td>\n",
              "      <td>603.25</td>\n",
              "      <td>174.7</td>\n",
              "      <td>1240.75</td>\n",
              "      <td>1092.00</td>\n",
              "      <td>26.900</td>\n",
              "      <td>18.350000</td>\n",
              "      <td>0.640649</td>\n",
              "    </tr>\n",
              "    <tr>\n",
              "      <th>9355</th>\n",
              "      <td>2005-04-04</td>\n",
              "      <td>13:00:00</td>\n",
              "      <td>2.1</td>\n",
              "      <td>1002.50</td>\n",
              "      <td>-200</td>\n",
              "      <td>9.547187</td>\n",
              "      <td>960.50</td>\n",
              "      <td>234.5</td>\n",
              "      <td>701.50</td>\n",
              "      <td>155.7</td>\n",
              "      <td>1041.00</td>\n",
              "      <td>769.75</td>\n",
              "      <td>28.325</td>\n",
              "      <td>13.550000</td>\n",
              "      <td>0.513866</td>\n",
              "    </tr>\n",
              "    <tr>\n",
              "      <th>9356</th>\n",
              "      <td>2005-04-04</td>\n",
              "      <td>14:00:00</td>\n",
              "      <td>2.2</td>\n",
              "      <td>1070.75</td>\n",
              "      <td>-200</td>\n",
              "      <td>11.932060</td>\n",
              "      <td>1047.25</td>\n",
              "      <td>265.2</td>\n",
              "      <td>654.00</td>\n",
              "      <td>167.7</td>\n",
              "      <td>1128.50</td>\n",
              "      <td>816.00</td>\n",
              "      <td>28.500</td>\n",
              "      <td>13.125000</td>\n",
              "      <td>0.502804</td>\n",
              "    </tr>\n",
              "  </tbody>\n",
              "</table>\n",
              "<p>9357 rows × 15 columns</p>\n",
              "</div>"
            ],
            "text/plain": [
              "           Date      Time  CO(GT)  ...       T         RH        AH\n",
              "0    2004-03-10  18:00:00     2.6  ...  13.600  48.875001  0.757754\n",
              "1    2004-03-10  19:00:00     2.0  ...  13.300  47.700000  0.725487\n",
              "2    2004-03-10  20:00:00     2.2  ...  11.900  53.975000  0.750239\n",
              "3    2004-03-10  21:00:00     2.2  ...  11.000  60.000000  0.786713\n",
              "4    2004-03-10  22:00:00     1.6  ...  11.150  59.575001  0.788794\n",
              "...         ...       ...     ...  ...     ...        ...       ...\n",
              "9352 2005-04-04  10:00:00     3.1  ...  21.850  29.250000  0.756824\n",
              "9353 2005-04-04  11:00:00     2.4  ...  24.325  23.725000  0.711864\n",
              "9354 2005-04-04  12:00:00     2.4  ...  26.900  18.350000  0.640649\n",
              "9355 2005-04-04  13:00:00     2.1  ...  28.325  13.550000  0.513866\n",
              "9356 2005-04-04  14:00:00     2.2  ...  28.500  13.125000  0.502804\n",
              "\n",
              "[9357 rows x 15 columns]"
            ]
          },
          "metadata": {
            "tags": []
          },
          "execution_count": 13
        }
      ]
    },
    {
      "cell_type": "code",
      "metadata": {
        "id": "bKy3Ute4weZ6"
      },
      "source": [
        "#features and labels\r\n",
        "features = air_data\r\n"
      ],
      "execution_count": 14,
      "outputs": []
    },
    {
      "cell_type": "code",
      "metadata": {
        "id": "79kQ3rd_wgvy"
      },
      "source": [
        "features = features.drop('Date', axis=1)\r\n",
        "features = features.drop('Time', axis=1)\r\n",
        "features = features.drop('C6H6(GT)', axis=1)\r\n",
        "features = features.drop('PT08.S4(NO2)', axis=1)"
      ],
      "execution_count": 15,
      "outputs": []
    },
    {
      "cell_type": "code",
      "metadata": {
        "id": "tIDN5ln8wjIh"
      },
      "source": [
        "labels = air_data['C6H6(GT)'].values\r\n"
      ],
      "execution_count": 17,
      "outputs": []
    },
    {
      "cell_type": "code",
      "metadata": {
        "id": "RksIOZL1wq7z"
      },
      "source": [
        "features = features.values\r\n"
      ],
      "execution_count": 18,
      "outputs": []
    },
    {
      "cell_type": "code",
      "metadata": {
        "id": "B4cbcNm4wuvu"
      },
      "source": [
        "#train test split\r\n",
        "X_train, X_test, y_train, y_test = train_test_split(features, labels, test_size=0.3)\r\n"
      ],
      "execution_count": 19,
      "outputs": []
    },
    {
      "cell_type": "code",
      "metadata": {
        "id": "IPUwoDozxbcJ"
      },
      "source": [
        "from sklearn.ensemble import ExtraTreesRegressor\r\n"
      ],
      "execution_count": 20,
      "outputs": []
    },
    {
      "cell_type": "code",
      "metadata": {
        "colab": {
          "base_uri": "https://localhost:8080/"
        },
        "id": "TvtOWBGnxgGK",
        "outputId": "2c5af396-c966-46d7-d3f7-a63b9b62754c"
      },
      "source": [
        "etr = ExtraTreesRegressor(n_estimators=300)\r\n",
        "etr.fit(X_train, y_train)"
      ],
      "execution_count": 21,
      "outputs": [
        {
          "output_type": "execute_result",
          "data": {
            "text/plain": [
              "ExtraTreesRegressor(bootstrap=False, ccp_alpha=0.0, criterion='mse',\n",
              "                    max_depth=None, max_features='auto', max_leaf_nodes=None,\n",
              "                    max_samples=None, min_impurity_decrease=0.0,\n",
              "                    min_impurity_split=None, min_samples_leaf=1,\n",
              "                    min_samples_split=2, min_weight_fraction_leaf=0.0,\n",
              "                    n_estimators=300, n_jobs=None, oob_score=False,\n",
              "                    random_state=None, verbose=0, warm_start=False)"
            ]
          },
          "metadata": {
            "tags": []
          },
          "execution_count": 21
        }
      ]
    },
    {
      "cell_type": "code",
      "metadata": {
        "colab": {
          "base_uri": "https://localhost:8080/"
        },
        "id": "pLHCTfwjxkdx",
        "outputId": "39a00b43-df04-4103-def6-1aa7d98912f5"
      },
      "source": [
        "print(etr.feature_importances_)\r\n",
        "indecis = np.argsort(etr.feature_importances_)[::-1]"
      ],
      "execution_count": 22,
      "outputs": [
        {
          "output_type": "stream",
          "text": [
            "[4.58472972e-05 6.75351891e-02 4.27946398e-06 7.24184916e-02\n",
            " 4.12671479e-04 2.09490994e-02 4.54526986e-05 4.34673444e-02\n",
            " 1.97189877e-01 2.52113513e-01 3.45818235e-01]\n"
          ],
          "name": "stdout"
        }
      ]
    },
    {
      "cell_type": "code",
      "metadata": {
        "id": "oj1yncsgyCSC"
      },
      "source": [
        "from sklearn.model_selection import train_test_split\r\n",
        "X_train, X_test, y_train, y_test = train_test_split(features, labels, test_size=0.3, random_state=0)"
      ],
      "execution_count": 24,
      "outputs": []
    },
    {
      "cell_type": "code",
      "metadata": {
        "colab": {
          "base_uri": "https://localhost:8080/"
        },
        "id": "pWAetMC8xu8a",
        "outputId": "138a0620-1198-408f-c111-e196e6a4dc9a"
      },
      "source": [
        "from sklearn import metrics\r\n",
        "from sklearn.neural_network import MLPRegressor\r\n",
        "from sklearn.feature_selection import SelectKBest,mutual_info_regression\r\n",
        "from sklearn.model_selection import cross_val_score\r\n",
        "\r\n",
        "X_Best = SelectKBest(mutual_info_regression, k=6).fit_transform(features, labels)\r\n",
        "print(X_Best.shape)\r\n",
        "X_train, X_test, y_train, y_test = train_test_split(X_Best, labels, test_size=0.3, random_state=0)\r\n",
        "\r\n",
        "regressor = MLPRegressor()\r\n",
        "regressor.fit(X_train,y_train)\r\n",
        "print(regressor.score(X_test,y_test))\r\n",
        "cross_val_score(regressor, X_train, y_train, cv=6)"
      ],
      "execution_count": 25,
      "outputs": [
        {
          "output_type": "stream",
          "text": [
            "(9357, 6)\n",
            "0.9986288077708732\n"
          ],
          "name": "stdout"
        },
        {
          "output_type": "stream",
          "text": [
            "/usr/local/lib/python3.6/dist-packages/sklearn/neural_network/_multilayer_perceptron.py:571: ConvergenceWarning: Stochastic Optimizer: Maximum iterations (200) reached and the optimization hasn't converged yet.\n",
            "  % self.max_iter, ConvergenceWarning)\n"
          ],
          "name": "stderr"
        },
        {
          "output_type": "execute_result",
          "data": {
            "text/plain": [
              "array([0.99906646, 0.99582309, 0.99871053, 0.99919681, 0.99876741,\n",
              "       0.99906187])"
            ]
          },
          "metadata": {
            "tags": []
          },
          "execution_count": 25
        }
      ]
    },
    {
      "cell_type": "code",
      "metadata": {
        "id": "iGTp1J_RyNjG"
      },
      "source": [
        "import keras\r\n",
        "from keras.models import Sequential\r\n",
        "from keras.layers import *"
      ],
      "execution_count": 27,
      "outputs": []
    },
    {
      "cell_type": "code",
      "metadata": {
        "colab": {
          "base_uri": "https://localhost:8080/"
        },
        "id": "1K8oxYAtytPN",
        "outputId": "f816010f-9a2d-4d5f-b8f6-1e62e4759881"
      },
      "source": [
        "X_train, X_test, y_train, y_test = train_test_split(features, labels, test_size=0.3, random_state=0)\r\n",
        "model = Sequential()\r\n",
        "\r\n",
        "# The Input Layer :\r\n",
        "model.add(Dense(128, kernel_initializer='normal',input_dim = X_train.shape[1], activation='relu'))\r\n",
        "# The Hidden Layers :\r\n",
        "model.add(Dense(256, kernel_initializer='normal',activation='relu'))\r\n",
        "model.add(Dense(256, kernel_initializer='normal',activation='relu'))\r\n",
        "model.add(Dense(256, kernel_initializer='normal',activation='relu'))\r\n",
        "model.add(Dense(256, kernel_initializer='normal',activation='relu'))\r\n",
        "model.add(Dense(256, kernel_initializer='normal',activation='relu'))\r\n",
        "# The Output Layer :\r\n",
        "model.add(Dense(1, kernel_initializer='normal',activation='linear'))\r\n",
        "# Compile the network :\r\n",
        "model.compile(loss='mean_absolute_error', optimizer='adam', metrics=['mean_absolute_error'])\r\n",
        "model.summary()"
      ],
      "execution_count": 29,
      "outputs": [
        {
          "output_type": "stream",
          "text": [
            "Model: \"sequential_1\"\n",
            "_________________________________________________________________\n",
            "Layer (type)                 Output Shape              Param #   \n",
            "=================================================================\n",
            "dense_7 (Dense)              (None, 128)               1536      \n",
            "_________________________________________________________________\n",
            "dense_8 (Dense)              (None, 256)               33024     \n",
            "_________________________________________________________________\n",
            "dense_9 (Dense)              (None, 256)               65792     \n",
            "_________________________________________________________________\n",
            "dense_10 (Dense)             (None, 256)               65792     \n",
            "_________________________________________________________________\n",
            "dense_11 (Dense)             (None, 256)               65792     \n",
            "_________________________________________________________________\n",
            "dense_12 (Dense)             (None, 256)               65792     \n",
            "_________________________________________________________________\n",
            "dense_13 (Dense)             (None, 1)                 257       \n",
            "=================================================================\n",
            "Total params: 297,985\n",
            "Trainable params: 297,985\n",
            "Non-trainable params: 0\n",
            "_________________________________________________________________\n"
          ],
          "name": "stdout"
        }
      ]
    },
    {
      "cell_type": "code",
      "metadata": {
        "colab": {
          "base_uri": "https://localhost:8080/"
        },
        "id": "6iVZqI2uzBSL",
        "outputId": "c052904b-fd2c-408f-e2e9-b313876be718"
      },
      "source": [
        "model.fit(X_train, y_train,validation_split=0.33, batch_size = 10, epochs = 100)\r\n"
      ],
      "execution_count": 30,
      "outputs": [
        {
          "output_type": "stream",
          "text": [
            "Epoch 1/100\n",
            "439/439 [==============================] - 3s 6ms/step - loss: 5.2138 - mean_absolute_error: 5.2138 - val_loss: 2.5859 - val_mean_absolute_error: 2.5859\n",
            "Epoch 2/100\n",
            "439/439 [==============================] - 2s 5ms/step - loss: 2.3207 - mean_absolute_error: 2.3207 - val_loss: 0.9339 - val_mean_absolute_error: 0.9339\n",
            "Epoch 3/100\n",
            "439/439 [==============================] - 2s 5ms/step - loss: 2.2561 - mean_absolute_error: 2.2561 - val_loss: 1.5711 - val_mean_absolute_error: 1.5711\n",
            "Epoch 4/100\n",
            "439/439 [==============================] - 2s 5ms/step - loss: 1.9745 - mean_absolute_error: 1.9745 - val_loss: 5.2636 - val_mean_absolute_error: 5.2636\n",
            "Epoch 5/100\n",
            "439/439 [==============================] - 2s 5ms/step - loss: 2.4351 - mean_absolute_error: 2.4351 - val_loss: 0.9712 - val_mean_absolute_error: 0.9712\n",
            "Epoch 6/100\n",
            "439/439 [==============================] - 2s 5ms/step - loss: 1.4149 - mean_absolute_error: 1.4149 - val_loss: 3.6528 - val_mean_absolute_error: 3.6528\n",
            "Epoch 7/100\n",
            "439/439 [==============================] - 2s 6ms/step - loss: 1.6140 - mean_absolute_error: 1.6140 - val_loss: 1.7748 - val_mean_absolute_error: 1.7748\n",
            "Epoch 8/100\n",
            "439/439 [==============================] - 2s 6ms/step - loss: 1.7121 - mean_absolute_error: 1.7121 - val_loss: 3.1624 - val_mean_absolute_error: 3.1624\n",
            "Epoch 9/100\n",
            "439/439 [==============================] - 2s 5ms/step - loss: 1.7053 - mean_absolute_error: 1.7053 - val_loss: 1.6259 - val_mean_absolute_error: 1.6259\n",
            "Epoch 10/100\n",
            "439/439 [==============================] - 2s 5ms/step - loss: 1.7306 - mean_absolute_error: 1.7306 - val_loss: 1.1300 - val_mean_absolute_error: 1.1300\n",
            "Epoch 11/100\n",
            "439/439 [==============================] - 2s 5ms/step - loss: 1.0610 - mean_absolute_error: 1.0610 - val_loss: 1.0086 - val_mean_absolute_error: 1.0086\n",
            "Epoch 12/100\n",
            "439/439 [==============================] - 3s 6ms/step - loss: 1.5673 - mean_absolute_error: 1.5673 - val_loss: 0.7031 - val_mean_absolute_error: 0.7031\n",
            "Epoch 13/100\n",
            "439/439 [==============================] - 2s 5ms/step - loss: 1.1896 - mean_absolute_error: 1.1896 - val_loss: 1.3962 - val_mean_absolute_error: 1.3962\n",
            "Epoch 14/100\n",
            "439/439 [==============================] - 2s 5ms/step - loss: 1.2672 - mean_absolute_error: 1.2672 - val_loss: 1.1351 - val_mean_absolute_error: 1.1351\n",
            "Epoch 15/100\n",
            "439/439 [==============================] - 2s 5ms/step - loss: 1.1929 - mean_absolute_error: 1.1929 - val_loss: 1.7744 - val_mean_absolute_error: 1.7744\n",
            "Epoch 16/100\n",
            "439/439 [==============================] - 2s 5ms/step - loss: 0.9897 - mean_absolute_error: 0.9897 - val_loss: 1.5345 - val_mean_absolute_error: 1.5345\n",
            "Epoch 17/100\n",
            "439/439 [==============================] - 2s 5ms/step - loss: 1.2100 - mean_absolute_error: 1.2100 - val_loss: 0.6035 - val_mean_absolute_error: 0.6035\n",
            "Epoch 18/100\n",
            "439/439 [==============================] - 2s 5ms/step - loss: 0.9319 - mean_absolute_error: 0.9319 - val_loss: 1.2194 - val_mean_absolute_error: 1.2194\n",
            "Epoch 19/100\n",
            "439/439 [==============================] - 2s 5ms/step - loss: 0.9277 - mean_absolute_error: 0.9277 - val_loss: 0.6329 - val_mean_absolute_error: 0.6329\n",
            "Epoch 20/100\n",
            "439/439 [==============================] - 2s 5ms/step - loss: 0.8509 - mean_absolute_error: 0.8509 - val_loss: 1.0285 - val_mean_absolute_error: 1.0285\n",
            "Epoch 21/100\n",
            "439/439 [==============================] - 3s 6ms/step - loss: 1.1790 - mean_absolute_error: 1.1790 - val_loss: 0.5246 - val_mean_absolute_error: 0.5246\n",
            "Epoch 22/100\n",
            "439/439 [==============================] - 2s 5ms/step - loss: 0.9644 - mean_absolute_error: 0.9644 - val_loss: 1.7544 - val_mean_absolute_error: 1.7544\n",
            "Epoch 23/100\n",
            "439/439 [==============================] - 2s 5ms/step - loss: 0.9021 - mean_absolute_error: 0.9021 - val_loss: 0.4322 - val_mean_absolute_error: 0.4322\n",
            "Epoch 24/100\n",
            "439/439 [==============================] - 2s 5ms/step - loss: 1.1781 - mean_absolute_error: 1.1781 - val_loss: 0.5428 - val_mean_absolute_error: 0.5428\n",
            "Epoch 25/100\n",
            "439/439 [==============================] - 2s 5ms/step - loss: 0.6976 - mean_absolute_error: 0.6976 - val_loss: 0.9450 - val_mean_absolute_error: 0.9450\n",
            "Epoch 26/100\n",
            "439/439 [==============================] - 2s 5ms/step - loss: 0.8804 - mean_absolute_error: 0.8804 - val_loss: 0.8692 - val_mean_absolute_error: 0.8692\n",
            "Epoch 27/100\n",
            "439/439 [==============================] - 2s 5ms/step - loss: 0.7449 - mean_absolute_error: 0.7449 - val_loss: 0.7165 - val_mean_absolute_error: 0.7165\n",
            "Epoch 28/100\n",
            "439/439 [==============================] - 2s 5ms/step - loss: 0.9955 - mean_absolute_error: 0.9955 - val_loss: 0.7748 - val_mean_absolute_error: 0.7748\n",
            "Epoch 29/100\n",
            "439/439 [==============================] - 2s 5ms/step - loss: 0.6799 - mean_absolute_error: 0.6799 - val_loss: 0.8393 - val_mean_absolute_error: 0.8393\n",
            "Epoch 30/100\n",
            "439/439 [==============================] - 2s 5ms/step - loss: 0.7288 - mean_absolute_error: 0.7288 - val_loss: 0.6995 - val_mean_absolute_error: 0.6995\n",
            "Epoch 31/100\n",
            "439/439 [==============================] - 2s 5ms/step - loss: 0.8816 - mean_absolute_error: 0.8816 - val_loss: 0.3544 - val_mean_absolute_error: 0.3544\n",
            "Epoch 32/100\n",
            "439/439 [==============================] - 2s 5ms/step - loss: 0.6482 - mean_absolute_error: 0.6482 - val_loss: 0.7979 - val_mean_absolute_error: 0.7979\n",
            "Epoch 33/100\n",
            "439/439 [==============================] - 2s 6ms/step - loss: 0.7951 - mean_absolute_error: 0.7951 - val_loss: 0.7364 - val_mean_absolute_error: 0.7364\n",
            "Epoch 34/100\n",
            "439/439 [==============================] - 2s 6ms/step - loss: 0.8952 - mean_absolute_error: 0.8952 - val_loss: 0.3183 - val_mean_absolute_error: 0.3183\n",
            "Epoch 35/100\n",
            "439/439 [==============================] - 2s 5ms/step - loss: 0.7708 - mean_absolute_error: 0.7708 - val_loss: 0.5513 - val_mean_absolute_error: 0.5513\n",
            "Epoch 36/100\n",
            "439/439 [==============================] - 2s 5ms/step - loss: 0.7325 - mean_absolute_error: 0.7325 - val_loss: 1.3703 - val_mean_absolute_error: 1.3703\n",
            "Epoch 37/100\n",
            "439/439 [==============================] - 2s 5ms/step - loss: 0.9753 - mean_absolute_error: 0.9753 - val_loss: 0.6816 - val_mean_absolute_error: 0.6816\n",
            "Epoch 38/100\n",
            "439/439 [==============================] - 2s 5ms/step - loss: 0.6551 - mean_absolute_error: 0.6551 - val_loss: 0.5895 - val_mean_absolute_error: 0.5895\n",
            "Epoch 39/100\n",
            "439/439 [==============================] - 2s 6ms/step - loss: 0.6379 - mean_absolute_error: 0.6379 - val_loss: 0.7541 - val_mean_absolute_error: 0.7541\n",
            "Epoch 40/100\n",
            "439/439 [==============================] - 3s 6ms/step - loss: 0.5845 - mean_absolute_error: 0.5845 - val_loss: 0.4229 - val_mean_absolute_error: 0.4229\n",
            "Epoch 41/100\n",
            "439/439 [==============================] - 3s 6ms/step - loss: 0.8412 - mean_absolute_error: 0.8412 - val_loss: 0.3031 - val_mean_absolute_error: 0.3031\n",
            "Epoch 42/100\n",
            "439/439 [==============================] - 3s 6ms/step - loss: 0.5414 - mean_absolute_error: 0.5414 - val_loss: 0.4228 - val_mean_absolute_error: 0.4228\n",
            "Epoch 43/100\n",
            "439/439 [==============================] - 3s 6ms/step - loss: 0.7491 - mean_absolute_error: 0.7491 - val_loss: 0.4734 - val_mean_absolute_error: 0.4734\n",
            "Epoch 44/100\n",
            "439/439 [==============================] - 3s 6ms/step - loss: 0.6599 - mean_absolute_error: 0.6599 - val_loss: 1.5623 - val_mean_absolute_error: 1.5623\n",
            "Epoch 45/100\n",
            "439/439 [==============================] - 3s 6ms/step - loss: 1.0043 - mean_absolute_error: 1.0043 - val_loss: 1.1073 - val_mean_absolute_error: 1.1073\n",
            "Epoch 46/100\n",
            "439/439 [==============================] - 3s 6ms/step - loss: 0.7647 - mean_absolute_error: 0.7647 - val_loss: 0.4550 - val_mean_absolute_error: 0.4550\n",
            "Epoch 47/100\n",
            "439/439 [==============================] - 3s 6ms/step - loss: 0.7559 - mean_absolute_error: 0.7559 - val_loss: 0.8137 - val_mean_absolute_error: 0.8137\n",
            "Epoch 48/100\n",
            "439/439 [==============================] - 2s 5ms/step - loss: 0.7249 - mean_absolute_error: 0.7249 - val_loss: 0.1961 - val_mean_absolute_error: 0.1961\n",
            "Epoch 49/100\n",
            "439/439 [==============================] - 2s 5ms/step - loss: 0.4952 - mean_absolute_error: 0.4952 - val_loss: 0.2552 - val_mean_absolute_error: 0.2552\n",
            "Epoch 50/100\n",
            "439/439 [==============================] - 2s 5ms/step - loss: 0.6195 - mean_absolute_error: 0.6195 - val_loss: 0.5716 - val_mean_absolute_error: 0.5716\n",
            "Epoch 51/100\n",
            "439/439 [==============================] - 2s 6ms/step - loss: 0.8025 - mean_absolute_error: 0.8025 - val_loss: 0.1849 - val_mean_absolute_error: 0.1849\n",
            "Epoch 52/100\n",
            "439/439 [==============================] - 2s 5ms/step - loss: 0.7119 - mean_absolute_error: 0.7119 - val_loss: 0.7708 - val_mean_absolute_error: 0.7708\n",
            "Epoch 53/100\n",
            "439/439 [==============================] - 2s 5ms/step - loss: 0.6181 - mean_absolute_error: 0.6181 - val_loss: 0.7886 - val_mean_absolute_error: 0.7886\n",
            "Epoch 54/100\n",
            "439/439 [==============================] - 2s 5ms/step - loss: 0.6925 - mean_absolute_error: 0.6925 - val_loss: 0.9968 - val_mean_absolute_error: 0.9968\n",
            "Epoch 55/100\n",
            "439/439 [==============================] - 2s 6ms/step - loss: 0.5190 - mean_absolute_error: 0.5190 - val_loss: 0.4563 - val_mean_absolute_error: 0.4563\n",
            "Epoch 56/100\n",
            "439/439 [==============================] - 2s 6ms/step - loss: 0.6934 - mean_absolute_error: 0.6934 - val_loss: 1.0775 - val_mean_absolute_error: 1.0775\n",
            "Epoch 57/100\n",
            "439/439 [==============================] - 3s 6ms/step - loss: 0.7319 - mean_absolute_error: 0.7319 - val_loss: 0.5817 - val_mean_absolute_error: 0.5817\n",
            "Epoch 58/100\n",
            "439/439 [==============================] - 2s 5ms/step - loss: 0.6878 - mean_absolute_error: 0.6878 - val_loss: 0.4420 - val_mean_absolute_error: 0.4420\n",
            "Epoch 59/100\n",
            "439/439 [==============================] - 2s 5ms/step - loss: 0.6071 - mean_absolute_error: 0.6071 - val_loss: 0.6387 - val_mean_absolute_error: 0.6387\n",
            "Epoch 60/100\n",
            "439/439 [==============================] - 2s 5ms/step - loss: 0.7175 - mean_absolute_error: 0.7175 - val_loss: 0.7369 - val_mean_absolute_error: 0.7369\n",
            "Epoch 61/100\n",
            "439/439 [==============================] - 2s 6ms/step - loss: 0.7090 - mean_absolute_error: 0.7090 - val_loss: 0.5721 - val_mean_absolute_error: 0.5721\n",
            "Epoch 62/100\n",
            "439/439 [==============================] - 2s 5ms/step - loss: 0.5781 - mean_absolute_error: 0.5781 - val_loss: 0.4406 - val_mean_absolute_error: 0.4406\n",
            "Epoch 63/100\n",
            "439/439 [==============================] - 2s 6ms/step - loss: 0.5408 - mean_absolute_error: 0.5408 - val_loss: 0.6194 - val_mean_absolute_error: 0.6194\n",
            "Epoch 64/100\n",
            "439/439 [==============================] - 2s 6ms/step - loss: 0.5311 - mean_absolute_error: 0.5311 - val_loss: 0.9514 - val_mean_absolute_error: 0.9514\n",
            "Epoch 65/100\n",
            "439/439 [==============================] - 2s 5ms/step - loss: 0.7854 - mean_absolute_error: 0.7854 - val_loss: 0.9620 - val_mean_absolute_error: 0.9620\n",
            "Epoch 66/100\n",
            "439/439 [==============================] - 2s 5ms/step - loss: 0.5631 - mean_absolute_error: 0.5631 - val_loss: 0.7504 - val_mean_absolute_error: 0.7504\n",
            "Epoch 67/100\n",
            "439/439 [==============================] - 3s 7ms/step - loss: 0.6108 - mean_absolute_error: 0.6108 - val_loss: 0.7850 - val_mean_absolute_error: 0.7850\n",
            "Epoch 68/100\n",
            "439/439 [==============================] - 3s 7ms/step - loss: 0.5966 - mean_absolute_error: 0.5966 - val_loss: 0.7316 - val_mean_absolute_error: 0.7316\n",
            "Epoch 69/100\n",
            "439/439 [==============================] - 3s 6ms/step - loss: 0.4991 - mean_absolute_error: 0.4991 - val_loss: 0.5180 - val_mean_absolute_error: 0.5180\n",
            "Epoch 70/100\n",
            "439/439 [==============================] - 2s 6ms/step - loss: 0.4542 - mean_absolute_error: 0.4542 - val_loss: 0.4059 - val_mean_absolute_error: 0.4059\n",
            "Epoch 71/100\n",
            "439/439 [==============================] - 2s 5ms/step - loss: 0.4559 - mean_absolute_error: 0.4559 - val_loss: 0.3846 - val_mean_absolute_error: 0.3846\n",
            "Epoch 72/100\n",
            "439/439 [==============================] - 2s 5ms/step - loss: 0.5159 - mean_absolute_error: 0.5159 - val_loss: 0.5734 - val_mean_absolute_error: 0.5734\n",
            "Epoch 73/100\n",
            "439/439 [==============================] - 2s 5ms/step - loss: 0.6832 - mean_absolute_error: 0.6832 - val_loss: 0.4200 - val_mean_absolute_error: 0.4200\n",
            "Epoch 74/100\n",
            "439/439 [==============================] - 2s 5ms/step - loss: 0.4260 - mean_absolute_error: 0.4260 - val_loss: 0.2421 - val_mean_absolute_error: 0.2421\n",
            "Epoch 75/100\n",
            "439/439 [==============================] - 2s 6ms/step - loss: 0.5383 - mean_absolute_error: 0.5383 - val_loss: 0.1962 - val_mean_absolute_error: 0.1962\n",
            "Epoch 76/100\n",
            "439/439 [==============================] - 2s 5ms/step - loss: 0.3906 - mean_absolute_error: 0.3906 - val_loss: 0.7588 - val_mean_absolute_error: 0.7588\n",
            "Epoch 77/100\n",
            "439/439 [==============================] - 2s 5ms/step - loss: 0.6090 - mean_absolute_error: 0.6090 - val_loss: 0.3596 - val_mean_absolute_error: 0.3596\n",
            "Epoch 78/100\n",
            "439/439 [==============================] - 2s 5ms/step - loss: 0.5079 - mean_absolute_error: 0.5079 - val_loss: 0.3143 - val_mean_absolute_error: 0.3143\n",
            "Epoch 79/100\n",
            "439/439 [==============================] - 2s 5ms/step - loss: 0.4515 - mean_absolute_error: 0.4515 - val_loss: 0.4221 - val_mean_absolute_error: 0.4221\n",
            "Epoch 80/100\n",
            "439/439 [==============================] - 2s 6ms/step - loss: 0.4855 - mean_absolute_error: 0.4855 - val_loss: 0.7465 - val_mean_absolute_error: 0.7465\n",
            "Epoch 81/100\n",
            "439/439 [==============================] - 2s 6ms/step - loss: 0.4920 - mean_absolute_error: 0.4920 - val_loss: 0.8293 - val_mean_absolute_error: 0.8293\n",
            "Epoch 82/100\n",
            "439/439 [==============================] - 2s 6ms/step - loss: 0.5245 - mean_absolute_error: 0.5245 - val_loss: 0.2976 - val_mean_absolute_error: 0.2976\n",
            "Epoch 83/100\n",
            "439/439 [==============================] - 2s 5ms/step - loss: 0.4902 - mean_absolute_error: 0.4902 - val_loss: 0.2308 - val_mean_absolute_error: 0.2308\n",
            "Epoch 84/100\n",
            "439/439 [==============================] - 2s 5ms/step - loss: 0.6194 - mean_absolute_error: 0.6194 - val_loss: 0.1684 - val_mean_absolute_error: 0.1684\n",
            "Epoch 85/100\n",
            "439/439 [==============================] - 2s 6ms/step - loss: 0.4916 - mean_absolute_error: 0.4916 - val_loss: 0.7119 - val_mean_absolute_error: 0.7119\n",
            "Epoch 86/100\n",
            "439/439 [==============================] - 2s 5ms/step - loss: 0.5296 - mean_absolute_error: 0.5296 - val_loss: 0.1768 - val_mean_absolute_error: 0.1768\n",
            "Epoch 87/100\n",
            "439/439 [==============================] - 2s 6ms/step - loss: 0.5368 - mean_absolute_error: 0.5368 - val_loss: 0.3857 - val_mean_absolute_error: 0.3857\n",
            "Epoch 88/100\n",
            "439/439 [==============================] - 2s 6ms/step - loss: 0.6105 - mean_absolute_error: 0.6105 - val_loss: 0.4509 - val_mean_absolute_error: 0.4509\n",
            "Epoch 89/100\n",
            "439/439 [==============================] - 2s 5ms/step - loss: 0.4521 - mean_absolute_error: 0.4521 - val_loss: 0.4120 - val_mean_absolute_error: 0.4120\n",
            "Epoch 90/100\n",
            "439/439 [==============================] - 2s 5ms/step - loss: 0.5188 - mean_absolute_error: 0.5188 - val_loss: 0.4328 - val_mean_absolute_error: 0.4328\n",
            "Epoch 91/100\n",
            "439/439 [==============================] - 2s 6ms/step - loss: 0.5538 - mean_absolute_error: 0.5538 - val_loss: 0.2634 - val_mean_absolute_error: 0.2634\n",
            "Epoch 92/100\n",
            "439/439 [==============================] - 2s 6ms/step - loss: 0.4367 - mean_absolute_error: 0.4367 - val_loss: 0.2966 - val_mean_absolute_error: 0.2966\n",
            "Epoch 93/100\n",
            "439/439 [==============================] - 2s 6ms/step - loss: 0.3889 - mean_absolute_error: 0.3889 - val_loss: 0.7437 - val_mean_absolute_error: 0.7437\n",
            "Epoch 94/100\n",
            "439/439 [==============================] - 3s 6ms/step - loss: 0.6267 - mean_absolute_error: 0.6267 - val_loss: 0.1419 - val_mean_absolute_error: 0.1419\n",
            "Epoch 95/100\n",
            "439/439 [==============================] - 2s 5ms/step - loss: 0.3774 - mean_absolute_error: 0.3774 - val_loss: 0.6872 - val_mean_absolute_error: 0.6872\n",
            "Epoch 96/100\n",
            "439/439 [==============================] - 2s 5ms/step - loss: 0.5484 - mean_absolute_error: 0.5484 - val_loss: 0.5966 - val_mean_absolute_error: 0.5966\n",
            "Epoch 97/100\n",
            "439/439 [==============================] - 2s 5ms/step - loss: 0.4910 - mean_absolute_error: 0.4910 - val_loss: 0.5725 - val_mean_absolute_error: 0.5725\n",
            "Epoch 98/100\n",
            "439/439 [==============================] - 2s 6ms/step - loss: 0.4244 - mean_absolute_error: 0.4244 - val_loss: 0.3450 - val_mean_absolute_error: 0.3450\n",
            "Epoch 99/100\n",
            "439/439 [==============================] - 2s 6ms/step - loss: 0.4300 - mean_absolute_error: 0.4300 - val_loss: 0.1177 - val_mean_absolute_error: 0.1177\n",
            "Epoch 100/100\n",
            "439/439 [==============================] - 2s 5ms/step - loss: 0.4255 - mean_absolute_error: 0.4255 - val_loss: 0.2059 - val_mean_absolute_error: 0.2059\n"
          ],
          "name": "stdout"
        },
        {
          "output_type": "execute_result",
          "data": {
            "text/plain": [
              "<tensorflow.python.keras.callbacks.History at 0x7f1f648f2588>"
            ]
          },
          "metadata": {
            "tags": []
          },
          "execution_count": 30
        }
      ]
    },
    {
      "cell_type": "code",
      "metadata": {
        "id": "7_tENeEK0EfN"
      },
      "source": [
        "prediction = model.predict(X_test)"
      ],
      "execution_count": 31,
      "outputs": []
    },
    {
      "cell_type": "code",
      "metadata": {
        "colab": {
          "base_uri": "https://localhost:8080/",
          "height": 303
        },
        "id": "sOvMmST10Ya7",
        "outputId": "75db6e76-7736-4853-80c9-b1f91e2c296b"
      },
      "source": [
        "plt.plot(prediction, y_test)\r\n",
        "plt.xlabel(\"y_test\")\r\n",
        "plt.ylabel(\"y_pred\")   \r\n",
        "plt.scatter(prediction,y_test)"
      ],
      "execution_count": 34,
      "outputs": [
        {
          "output_type": "execute_result",
          "data": {
            "text/plain": [
              "<matplotlib.collections.PathCollection at 0x7f1f610ff2e8>"
            ]
          },
          "metadata": {
            "tags": []
          },
          "execution_count": 34
        },
        {
          "output_type": "display_data",
          "data": {
            "image/png": "[encoded data removed]",
            "text/plain": [
              "<Figure size 432x288 with 1 Axes>"
            ]
          },
          "metadata": {
            "tags": []
          }
        }
      ]
    }
  ]
}