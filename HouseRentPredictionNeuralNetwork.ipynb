{
  "nbformat": 4,
  "nbformat_minor": 0,
  "metadata": {
    "colab": {
      "name": "HouseRentPredictionNeuralNetwork.ipynb",
      "provenance": [],
      "collapsed_sections": [],
      "authorship_tag": "ABX9TyOhOpvAICWhfziWvBcA2yBs",
      "include_colab_link": true
    },
    "kernelspec": {
      "name": "python3",
      "display_name": "Python 3"
    }
  },
  "cells": [
    {
      "cell_type": "markdown",
      "metadata": {
        "id": "view-in-github",
        "colab_type": "text"
      },
      "source": [
        "<a href=\"https://colab.research.google.com/github/MehediTCF/AI-Lab/blob/main/HouseRentPredictionNeuralNetwork.ipynb\" target=\"_parent\"><img src=\"https://colab.research.google.com/assets/colab-badge.svg\" alt=\"Open In Colab\"/></a>"
      ]
    },
    {
      "cell_type": "code",
      "metadata": {
        "id": "yyH_5zdypar-"
      },
      "source": [
        "#importing dependencies\r\n",
        "import pandas as pd\r\n",
        "import numpy as np\r\n",
        "import seaborn as sns\r\n",
        "import matplotlib.pyplot as plt\r\n",
        "from sklearn import linear_model\r\n",
        "from sklearn.model_selection import train_test_split\r\n",
        "%matplotlib inline"
      ],
      "execution_count": 1,
      "outputs": []
    },
    {
      "cell_type": "code",
      "metadata": {
        "colab": {
          "base_uri": "https://localhost:8080/"
        },
        "id": "is9dZrA4ppzb",
        "outputId": "ff53547e-b52b-4620-872e-1d97d0e47a0f"
      },
      "source": [
        "#load boston housing datasets from sklearn.datasets\r\n",
        "from sklearn.datasets import load_boston\r\n",
        "boston_data = load_boston()\r\n",
        "print(boston_data)"
      ],
      "execution_count": 2,
      "outputs": [
        {
          "output_type": "stream",
          "text": [
            "{'data': array([[6.3200e-03, 1.8000e+01, 2.3100e+00, ..., 1.5300e+01, 3.9690e+02,\n",
            "        4.9800e+00],\n",
            "       [2.7310e-02, 0.0000e+00, 7.0700e+00, ..., 1.7800e+01, 3.9690e+02,\n",
            "        9.1400e+00],\n",
            "       [2.7290e-02, 0.0000e+00, 7.0700e+00, ..., 1.7800e+01, 3.9283e+02,\n",
            "        4.0300e+00],\n",
            "       ...,\n",
            "       [6.0760e-02, 0.0000e+00, 1.1930e+01, ..., 2.1000e+01, 3.9690e+02,\n",
            "        5.6400e+00],\n",
            "       [1.0959e-01, 0.0000e+00, 1.1930e+01, ..., 2.1000e+01, 3.9345e+02,\n",
            "        6.4800e+00],\n",
            "       [4.7410e-02, 0.0000e+00, 1.1930e+01, ..., 2.1000e+01, 3.9690e+02,\n",
            "        7.8800e+00]]), 'target': array([24. , 21.6, 34.7, 33.4, 36.2, 28.7, 22.9, 27.1, 16.5, 18.9, 15. ,\n",
            "       18.9, 21.7, 20.4, 18.2, 19.9, 23.1, 17.5, 20.2, 18.2, 13.6, 19.6,\n",
            "       15.2, 14.5, 15.6, 13.9, 16.6, 14.8, 18.4, 21. , 12.7, 14.5, 13.2,\n",
            "       13.1, 13.5, 18.9, 20. , 21. , 24.7, 30.8, 34.9, 26.6, 25.3, 24.7,\n",
            "       21.2, 19.3, 20. , 16.6, 14.4, 19.4, 19.7, 20.5, 25. , 23.4, 18.9,\n",
            "       35.4, 24.7, 31.6, 23.3, 19.6, 18.7, 16. , 22.2, 25. , 33. , 23.5,\n",
            "       19.4, 22. , 17.4, 20.9, 24.2, 21.7, 22.8, 23.4, 24.1, 21.4, 20. ,\n",
            "       20.8, 21.2, 20.3, 28. , 23.9, 24.8, 22.9, 23.9, 26.6, 22.5, 22.2,\n",
            "       23.6, 28.7, 22.6, 22. , 22.9, 25. , 20.6, 28.4, 21.4, 38.7, 43.8,\n",
            "       33.2, 27.5, 26.5, 18.6, 19.3, 20.1, 19.5, 19.5, 20.4, 19.8, 19.4,\n",
            "       21.7, 22.8, 18.8, 18.7, 18.5, 18.3, 21.2, 19.2, 20.4, 19.3, 22. ,\n",
            "       20.3, 20.5, 17.3, 18.8, 21.4, 15.7, 16.2, 18. , 14.3, 19.2, 19.6,\n",
            "       23. , 18.4, 15.6, 18.1, 17.4, 17.1, 13.3, 17.8, 14. , 14.4, 13.4,\n",
            "       15.6, 11.8, 13.8, 15.6, 14.6, 17.8, 15.4, 21.5, 19.6, 15.3, 19.4,\n",
            "       17. , 15.6, 13.1, 41.3, 24.3, 23.3, 27. , 50. , 50. , 50. , 22.7,\n",
            "       25. , 50. , 23.8, 23.8, 22.3, 17.4, 19.1, 23.1, 23.6, 22.6, 29.4,\n",
            "       23.2, 24.6, 29.9, 37.2, 39.8, 36.2, 37.9, 32.5, 26.4, 29.6, 50. ,\n",
            "       32. , 29.8, 34.9, 37. , 30.5, 36.4, 31.1, 29.1, 50. , 33.3, 30.3,\n",
            "       34.6, 34.9, 32.9, 24.1, 42.3, 48.5, 50. , 22.6, 24.4, 22.5, 24.4,\n",
            "       20. , 21.7, 19.3, 22.4, 28.1, 23.7, 25. , 23.3, 28.7, 21.5, 23. ,\n",
            "       26.7, 21.7, 27.5, 30.1, 44.8, 50. , 37.6, 31.6, 46.7, 31.5, 24.3,\n",
            "       31.7, 41.7, 48.3, 29. , 24. , 25.1, 31.5, 23.7, 23.3, 22. , 20.1,\n",
            "       22.2, 23.7, 17.6, 18.5, 24.3, 20.5, 24.5, 26.2, 24.4, 24.8, 29.6,\n",
            "       42.8, 21.9, 20.9, 44. , 50. , 36. , 30.1, 33.8, 43.1, 48.8, 31. ,\n",
            "       36.5, 22.8, 30.7, 50. , 43.5, 20.7, 21.1, 25.2, 24.4, 35.2, 32.4,\n",
            "       32. , 33.2, 33.1, 29.1, 35.1, 45.4, 35.4, 46. , 50. , 32.2, 22. ,\n",
            "       20.1, 23.2, 22.3, 24.8, 28.5, 37.3, 27.9, 23.9, 21.7, 28.6, 27.1,\n",
            "       20.3, 22.5, 29. , 24.8, 22. , 26.4, 33.1, 36.1, 28.4, 33.4, 28.2,\n",
            "       22.8, 20.3, 16.1, 22.1, 19.4, 21.6, 23.8, 16.2, 17.8, 19.8, 23.1,\n",
            "       21. , 23.8, 23.1, 20.4, 18.5, 25. , 24.6, 23. , 22.2, 19.3, 22.6,\n",
            "       19.8, 17.1, 19.4, 22.2, 20.7, 21.1, 19.5, 18.5, 20.6, 19. , 18.7,\n",
            "       32.7, 16.5, 23.9, 31.2, 17.5, 17.2, 23.1, 24.5, 26.6, 22.9, 24.1,\n",
            "       18.6, 30.1, 18.2, 20.6, 17.8, 21.7, 22.7, 22.6, 25. , 19.9, 20.8,\n",
            "       16.8, 21.9, 27.5, 21.9, 23.1, 50. , 50. , 50. , 50. , 50. , 13.8,\n",
            "       13.8, 15. , 13.9, 13.3, 13.1, 10.2, 10.4, 10.9, 11.3, 12.3,  8.8,\n",
            "        7.2, 10.5,  7.4, 10.2, 11.5, 15.1, 23.2,  9.7, 13.8, 12.7, 13.1,\n",
            "       12.5,  8.5,  5. ,  6.3,  5.6,  7.2, 12.1,  8.3,  8.5,  5. , 11.9,\n",
            "       27.9, 17.2, 27.5, 15. , 17.2, 17.9, 16.3,  7. ,  7.2,  7.5, 10.4,\n",
            "        8.8,  8.4, 16.7, 14.2, 20.8, 13.4, 11.7,  8.3, 10.2, 10.9, 11. ,\n",
            "        9.5, 14.5, 14.1, 16.1, 14.3, 11.7, 13.4,  9.6,  8.7,  8.4, 12.8,\n",
            "       10.5, 17.1, 18.4, 15.4, 10.8, 11.8, 14.9, 12.6, 14.1, 13. , 13.4,\n",
            "       15.2, 16.1, 17.8, 14.9, 14.1, 12.7, 13.5, 14.9, 20. , 16.4, 17.7,\n",
            "       19.5, 20.2, 21.4, 19.9, 19. , 19.1, 19.1, 20.1, 19.9, 19.6, 23.2,\n",
            "       29.8, 13.8, 13.3, 16.7, 12. , 14.6, 21.4, 23. , 23.7, 25. , 21.8,\n",
            "       20.6, 21.2, 19.1, 20.6, 15.2,  7. ,  8.1, 13.6, 20.1, 21.8, 24.5,\n",
            "       23.1, 19.7, 18.3, 21.2, 17.5, 16.8, 22.4, 20.6, 23.9, 22. , 11.9]), 'feature_names': array(['CRIM', 'ZN', 'INDUS', 'CHAS', 'NOX', 'RM', 'AGE', 'DIS', 'RAD',\n",
            "       'TAX', 'PTRATIO', 'B', 'LSTAT'], dtype='<U7'), 'DESCR': \".. _boston_dataset:\\n\\nBoston house prices dataset\\n---------------------------\\n\\n**Data Set Characteristics:**  \\n\\n    :Number of Instances: 506 \\n\\n    :Number of Attributes: 13 numeric/categorical predictive. Median Value (attribute 14) is usually the target.\\n\\n    :Attribute Information (in order):\\n        - CRIM     per capita crime rate by town\\n        - ZN       proportion of residential land zoned for lots over 25,000 sq.ft.\\n        - INDUS    proportion of non-retail business acres per town\\n        - CHAS     Charles River dummy variable (= 1 if tract bounds river; 0 otherwise)\\n        - NOX      nitric oxides concentration (parts per 10 million)\\n        - RM       average number of rooms per dwelling\\n        - AGE      proportion of owner-occupied units built prior to 1940\\n        - DIS      weighted distances to five Boston employment centres\\n        - RAD      index of accessibility to radial highways\\n        - TAX      full-value property-tax rate per $10,000\\n        - PTRATIO  pupil-teacher ratio by town\\n        - B        1000(Bk - 0.63)^2 where Bk is the proportion of blacks by town\\n        - LSTAT    % lower status of the population\\n        - MEDV     Median value of owner-occupied homes in $1000's\\n\\n    :Missing Attribute Values: None\\n\\n    :Creator: Harrison, D. and Rubinfeld, D.L.\\n\\nThis is a copy of UCI ML housing dataset.\\nhttps://archive.ics.uci.edu/ml/machine-learning-databases/housing/\\n\\n\\nThis dataset was taken from the StatLib library which is maintained at Carnegie Mellon University.\\n\\nThe Boston house-price data of Harrison, D. and Rubinfeld, D.L. 'Hedonic\\nprices and the demand for clean air', J. Environ. Economics & Management,\\nvol.5, 81-102, 1978.   Used in Belsley, Kuh & Welsch, 'Regression diagnostics\\n...', Wiley, 1980.   N.B. Various transformations are used in the table on\\npages 244-261 of the latter.\\n\\nThe Boston house-price data has been used in many machine learning papers that address regression\\nproblems.   \\n     \\n.. topic:: References\\n\\n   - Belsley, Kuh & Welsch, 'Regression diagnostics: Identifying Influential Data and Sources of Collinearity', Wiley, 1980. 244-261.\\n   - Quinlan,R. (1993). Combining Instance-Based and Model-Based Learning. In Proceedings on the Tenth International Conference of Machine Learning, 236-243, University of Massachusetts, Amherst. Morgan Kaufmann.\\n\", 'filename': '/usr/local/lib/python3.6/dist-packages/sklearn/datasets/data/boston_house_prices.csv'}\n"
          ],
          "name": "stdout"
        }
      ]
    },
    {
      "cell_type": "code",
      "metadata": {
        "id": "U_OGqy6Up1Cs"
      },
      "source": [
        "#transform datasets into dataframe\r\n",
        "#feature_names = column names\r\n",
        "#target = y or price\r\n",
        "df_x = pd.DataFrame(boston_data.data, columns= boston_data.feature_names)\r\n",
        "df_y = pd.DataFrame(boston_data.target)"
      ],
      "execution_count": 3,
      "outputs": []
    },
    {
      "cell_type": "code",
      "metadata": {
        "colab": {
          "base_uri": "https://localhost:8080/",
          "height": 314
        },
        "id": "d9uNFroap5NT",
        "outputId": "3a0e20f9-bb60-4b4f-ed01-b5ba1330841c"
      },
      "source": [
        "df_x.describe()"
      ],
      "execution_count": 4,
      "outputs": [
        {
          "output_type": "execute_result",
          "data": {
            "text/html": [
              "<div>\n",
              "<style scoped>\n",
              "    .dataframe tbody tr th:only-of-type {\n",
              "        vertical-align: middle;\n",
              "    }\n",
              "\n",
              "    .dataframe tbody tr th {\n",
              "        vertical-align: top;\n",
              "    }\n",
              "\n",
              "    .dataframe thead th {\n",
              "        text-align: right;\n",
              "    }\n",
              "</style>\n",
              "<table border=\"1\" class=\"dataframe\">\n",
              "  <thead>\n",
              "    <tr style=\"text-align: right;\">\n",
              "      <th></th>\n",
              "      <th>CRIM</th>\n",
              "      <th>ZN</th>\n",
              "      <th>INDUS</th>\n",
              "      <th>CHAS</th>\n",
              "      <th>NOX</th>\n",
              "      <th>RM</th>\n",
              "      <th>AGE</th>\n",
              "      <th>DIS</th>\n",
              "      <th>RAD</th>\n",
              "      <th>TAX</th>\n",
              "      <th>PTRATIO</th>\n",
              "      <th>B</th>\n",
              "      <th>LSTAT</th>\n",
              "    </tr>\n",
              "  </thead>\n",
              "  <tbody>\n",
              "    <tr>\n",
              "      <th>count</th>\n",
              "      <td>506.000000</td>\n",
              "      <td>506.000000</td>\n",
              "      <td>506.000000</td>\n",
              "      <td>506.000000</td>\n",
              "      <td>506.000000</td>\n",
              "      <td>506.000000</td>\n",
              "      <td>506.000000</td>\n",
              "      <td>506.000000</td>\n",
              "      <td>506.000000</td>\n",
              "      <td>506.000000</td>\n",
              "      <td>506.000000</td>\n",
              "      <td>506.000000</td>\n",
              "      <td>506.000000</td>\n",
              "    </tr>\n",
              "    <tr>\n",
              "      <th>mean</th>\n",
              "      <td>3.613524</td>\n",
              "      <td>11.363636</td>\n",
              "      <td>11.136779</td>\n",
              "      <td>0.069170</td>\n",
              "      <td>0.554695</td>\n",
              "      <td>6.284634</td>\n",
              "      <td>68.574901</td>\n",
              "      <td>3.795043</td>\n",
              "      <td>9.549407</td>\n",
              "      <td>408.237154</td>\n",
              "      <td>18.455534</td>\n",
              "      <td>356.674032</td>\n",
              "      <td>12.653063</td>\n",
              "    </tr>\n",
              "    <tr>\n",
              "      <th>std</th>\n",
              "      <td>8.601545</td>\n",
              "      <td>23.322453</td>\n",
              "      <td>6.860353</td>\n",
              "      <td>0.253994</td>\n",
              "      <td>0.115878</td>\n",
              "      <td>0.702617</td>\n",
              "      <td>28.148861</td>\n",
              "      <td>2.105710</td>\n",
              "      <td>8.707259</td>\n",
              "      <td>168.537116</td>\n",
              "      <td>2.164946</td>\n",
              "      <td>91.294864</td>\n",
              "      <td>7.141062</td>\n",
              "    </tr>\n",
              "    <tr>\n",
              "      <th>min</th>\n",
              "      <td>0.006320</td>\n",
              "      <td>0.000000</td>\n",
              "      <td>0.460000</td>\n",
              "      <td>0.000000</td>\n",
              "      <td>0.385000</td>\n",
              "      <td>3.561000</td>\n",
              "      <td>2.900000</td>\n",
              "      <td>1.129600</td>\n",
              "      <td>1.000000</td>\n",
              "      <td>187.000000</td>\n",
              "      <td>12.600000</td>\n",
              "      <td>0.320000</td>\n",
              "      <td>1.730000</td>\n",
              "    </tr>\n",
              "    <tr>\n",
              "      <th>25%</th>\n",
              "      <td>0.082045</td>\n",
              "      <td>0.000000</td>\n",
              "      <td>5.190000</td>\n",
              "      <td>0.000000</td>\n",
              "      <td>0.449000</td>\n",
              "      <td>5.885500</td>\n",
              "      <td>45.025000</td>\n",
              "      <td>2.100175</td>\n",
              "      <td>4.000000</td>\n",
              "      <td>279.000000</td>\n",
              "      <td>17.400000</td>\n",
              "      <td>375.377500</td>\n",
              "      <td>6.950000</td>\n",
              "    </tr>\n",
              "    <tr>\n",
              "      <th>50%</th>\n",
              "      <td>0.256510</td>\n",
              "      <td>0.000000</td>\n",
              "      <td>9.690000</td>\n",
              "      <td>0.000000</td>\n",
              "      <td>0.538000</td>\n",
              "      <td>6.208500</td>\n",
              "      <td>77.500000</td>\n",
              "      <td>3.207450</td>\n",
              "      <td>5.000000</td>\n",
              "      <td>330.000000</td>\n",
              "      <td>19.050000</td>\n",
              "      <td>391.440000</td>\n",
              "      <td>11.360000</td>\n",
              "    </tr>\n",
              "    <tr>\n",
              "      <th>75%</th>\n",
              "      <td>3.677083</td>\n",
              "      <td>12.500000</td>\n",
              "      <td>18.100000</td>\n",
              "      <td>0.000000</td>\n",
              "      <td>0.624000</td>\n",
              "      <td>6.623500</td>\n",
              "      <td>94.075000</td>\n",
              "      <td>5.188425</td>\n",
              "      <td>24.000000</td>\n",
              "      <td>666.000000</td>\n",
              "      <td>20.200000</td>\n",
              "      <td>396.225000</td>\n",
              "      <td>16.955000</td>\n",
              "    </tr>\n",
              "    <tr>\n",
              "      <th>max</th>\n",
              "      <td>88.976200</td>\n",
              "      <td>100.000000</td>\n",
              "      <td>27.740000</td>\n",
              "      <td>1.000000</td>\n",
              "      <td>0.871000</td>\n",
              "      <td>8.780000</td>\n",
              "      <td>100.000000</td>\n",
              "      <td>12.126500</td>\n",
              "      <td>24.000000</td>\n",
              "      <td>711.000000</td>\n",
              "      <td>22.000000</td>\n",
              "      <td>396.900000</td>\n",
              "      <td>37.970000</td>\n",
              "    </tr>\n",
              "  </tbody>\n",
              "</table>\n",
              "</div>"
            ],
            "text/plain": [
              "             CRIM          ZN       INDUS  ...     PTRATIO           B       LSTAT\n",
              "count  506.000000  506.000000  506.000000  ...  506.000000  506.000000  506.000000\n",
              "mean     3.613524   11.363636   11.136779  ...   18.455534  356.674032   12.653063\n",
              "std      8.601545   23.322453    6.860353  ...    2.164946   91.294864    7.141062\n",
              "min      0.006320    0.000000    0.460000  ...   12.600000    0.320000    1.730000\n",
              "25%      0.082045    0.000000    5.190000  ...   17.400000  375.377500    6.950000\n",
              "50%      0.256510    0.000000    9.690000  ...   19.050000  391.440000   11.360000\n",
              "75%      3.677083   12.500000   18.100000  ...   20.200000  396.225000   16.955000\n",
              "max     88.976200  100.000000   27.740000  ...   22.000000  396.900000   37.970000\n",
              "\n",
              "[8 rows x 13 columns]"
            ]
          },
          "metadata": {
            "tags": []
          },
          "execution_count": 4
        }
      ]
    },
    {
      "cell_type": "code",
      "metadata": {
        "colab": {
          "base_uri": "https://localhost:8080/"
        },
        "id": "X5YjoBCCqiI1",
        "outputId": "a747d72d-1137-419c-e9b9-949c8c77371c"
      },
      "source": [
        "df_x.columns"
      ],
      "execution_count": 5,
      "outputs": [
        {
          "output_type": "execute_result",
          "data": {
            "text/plain": [
              "Index(['CRIM', 'ZN', 'INDUS', 'CHAS', 'NOX', 'RM', 'AGE', 'DIS', 'RAD', 'TAX',\n",
              "       'PTRATIO', 'B', 'LSTAT'],\n",
              "      dtype='object')"
            ]
          },
          "metadata": {
            "tags": []
          },
          "execution_count": 5
        }
      ]
    },
    {
      "cell_type": "code",
      "metadata": {
        "id": "7aQAoMkrqF8e"
      },
      "source": [
        "#splitting into train and test set \r\n",
        "X_train, X_test, y_train, y_test = train_test_split(df_x, df_y, test_size = 0.33, random_state=42)"
      ],
      "execution_count": 7,
      "outputs": []
    },
    {
      "cell_type": "code",
      "metadata": {
        "id": "Pd53cof_qJBz"
      },
      "source": [
        "import keras\r\n",
        "from keras.models import Sequential\r\n",
        "from keras.layers import *"
      ],
      "execution_count": 8,
      "outputs": []
    },
    {
      "cell_type": "code",
      "metadata": {
        "id": "yg8BZWWiqQPH"
      },
      "source": [
        "def HousePredictModel():\r\n",
        "  model = Sequential()\r\n",
        "\r\n",
        "  # The Input Layer :\r\n",
        "  model.add(Dense(128, kernel_initializer='normal',input_dim = X_train.shape[1], activation='relu'))\r\n",
        "  # The Hidden Layers :\r\n",
        "  model.add(Dense(256, kernel_initializer='normal',activation='relu'))\r\n",
        "  model.add(Dense(256, kernel_initializer='normal',activation='relu'))\r\n",
        "  model.add(Dense(256, kernel_initializer='normal',activation='relu'))\r\n",
        "  model.add(Dense(256, kernel_initializer='normal',activation='relu'))\r\n",
        "  model.add(Dense(256, kernel_initializer='normal',activation='relu'))\r\n",
        "  # The Output Layer :\r\n",
        "  model.add(Dense(1, kernel_initializer='normal',activation='linear'))\r\n",
        "  # Compile the network :\r\n",
        "  model.compile(loss='mean_absolute_error', optimizer='adam', metrics=['mean_absolute_error'])\r\n",
        "  return model"
      ],
      "execution_count": 10,
      "outputs": []
    },
    {
      "cell_type": "code",
      "metadata": {
        "colab": {
          "base_uri": "https://localhost:8080/"
        },
        "id": "NaCuWudvrvUv",
        "outputId": "a36fd781-010f-4b81-c6a0-4a3d2c746c87"
      },
      "source": [
        "model = HousePredictModel()\r\n",
        "model.summary()"
      ],
      "execution_count": 11,
      "outputs": [
        {
          "output_type": "stream",
          "text": [
            "Model: \"sequential\"\n",
            "_________________________________________________________________\n",
            "Layer (type)                 Output Shape              Param #   \n",
            "=================================================================\n",
            "dense (Dense)                (None, 128)               1792      \n",
            "_________________________________________________________________\n",
            "dense_1 (Dense)              (None, 256)               33024     \n",
            "_________________________________________________________________\n",
            "dense_2 (Dense)              (None, 256)               65792     \n",
            "_________________________________________________________________\n",
            "dense_3 (Dense)              (None, 256)               65792     \n",
            "_________________________________________________________________\n",
            "dense_4 (Dense)              (None, 256)               65792     \n",
            "_________________________________________________________________\n",
            "dense_5 (Dense)              (None, 256)               65792     \n",
            "_________________________________________________________________\n",
            "dense_6 (Dense)              (None, 1)                 257       \n",
            "=================================================================\n",
            "Total params: 298,241\n",
            "Trainable params: 298,241\n",
            "Non-trainable params: 0\n",
            "_________________________________________________________________\n"
          ],
          "name": "stdout"
        }
      ]
    },
    {
      "cell_type": "code",
      "metadata": {
        "colab": {
          "base_uri": "https://localhost:8080/"
        },
        "id": "5B4yd_5NqeBk",
        "outputId": "d6209cb0-01b8-4087-8458-d31f4712537f"
      },
      "source": [
        "model.fit(X_train, y_train,validation_split=0.33, batch_size = 10, epochs = 100)"
      ],
      "execution_count": 12,
      "outputs": [
        {
          "output_type": "stream",
          "text": [
            "Epoch 1/100\n",
            "23/23 [==============================] - 2s 35ms/step - loss: 13.4135 - mean_absolute_error: 13.4135 - val_loss: 5.7825 - val_mean_absolute_error: 5.7825\n",
            "Epoch 2/100\n",
            "23/23 [==============================] - 0s 7ms/step - loss: 7.2994 - mean_absolute_error: 7.2994 - val_loss: 6.3846 - val_mean_absolute_error: 6.3846\n",
            "Epoch 3/100\n",
            "23/23 [==============================] - 0s 7ms/step - loss: 6.9377 - mean_absolute_error: 6.9377 - val_loss: 5.5846 - val_mean_absolute_error: 5.5846\n",
            "Epoch 4/100\n",
            "23/23 [==============================] - 0s 8ms/step - loss: 6.0489 - mean_absolute_error: 6.0489 - val_loss: 7.4139 - val_mean_absolute_error: 7.4139\n",
            "Epoch 5/100\n",
            "23/23 [==============================] - 0s 7ms/step - loss: 5.8818 - mean_absolute_error: 5.8818 - val_loss: 5.6139 - val_mean_absolute_error: 5.6139\n",
            "Epoch 6/100\n",
            "23/23 [==============================] - 0s 7ms/step - loss: 5.7517 - mean_absolute_error: 5.7517 - val_loss: 5.0124 - val_mean_absolute_error: 5.0124\n",
            "Epoch 7/100\n",
            "23/23 [==============================] - 0s 7ms/step - loss: 5.9585 - mean_absolute_error: 5.9585 - val_loss: 5.0716 - val_mean_absolute_error: 5.0716\n",
            "Epoch 8/100\n",
            "23/23 [==============================] - 0s 7ms/step - loss: 4.9317 - mean_absolute_error: 4.9317 - val_loss: 5.3674 - val_mean_absolute_error: 5.3674\n",
            "Epoch 9/100\n",
            "23/23 [==============================] - 0s 7ms/step - loss: 6.2451 - mean_absolute_error: 6.2451 - val_loss: 5.3413 - val_mean_absolute_error: 5.3413\n",
            "Epoch 10/100\n",
            "23/23 [==============================] - 0s 6ms/step - loss: 6.0009 - mean_absolute_error: 6.0009 - val_loss: 5.5435 - val_mean_absolute_error: 5.5435\n",
            "Epoch 11/100\n",
            "23/23 [==============================] - 0s 7ms/step - loss: 5.9094 - mean_absolute_error: 5.9094 - val_loss: 5.4679 - val_mean_absolute_error: 5.4679\n",
            "Epoch 12/100\n",
            "23/23 [==============================] - 0s 6ms/step - loss: 5.7375 - mean_absolute_error: 5.7375 - val_loss: 5.4518 - val_mean_absolute_error: 5.4518\n",
            "Epoch 13/100\n",
            "23/23 [==============================] - 0s 6ms/step - loss: 5.9229 - mean_absolute_error: 5.9229 - val_loss: 5.1403 - val_mean_absolute_error: 5.1403\n",
            "Epoch 14/100\n",
            "23/23 [==============================] - 0s 7ms/step - loss: 6.6251 - mean_absolute_error: 6.6251 - val_loss: 4.8323 - val_mean_absolute_error: 4.8323\n",
            "Epoch 15/100\n",
            "23/23 [==============================] - 0s 7ms/step - loss: 5.5266 - mean_absolute_error: 5.5266 - val_loss: 4.9433 - val_mean_absolute_error: 4.9433\n",
            "Epoch 16/100\n",
            "23/23 [==============================] - 0s 6ms/step - loss: 4.6650 - mean_absolute_error: 4.6650 - val_loss: 5.1014 - val_mean_absolute_error: 5.1014\n",
            "Epoch 17/100\n",
            "23/23 [==============================] - 0s 6ms/step - loss: 4.7392 - mean_absolute_error: 4.7392 - val_loss: 5.6599 - val_mean_absolute_error: 5.6599\n",
            "Epoch 18/100\n",
            "23/23 [==============================] - 0s 7ms/step - loss: 4.7901 - mean_absolute_error: 4.7901 - val_loss: 4.4509 - val_mean_absolute_error: 4.4509\n",
            "Epoch 19/100\n",
            "23/23 [==============================] - 0s 7ms/step - loss: 5.0598 - mean_absolute_error: 5.0598 - val_loss: 4.8539 - val_mean_absolute_error: 4.8539\n",
            "Epoch 20/100\n",
            "23/23 [==============================] - 0s 7ms/step - loss: 4.2119 - mean_absolute_error: 4.2119 - val_loss: 4.7671 - val_mean_absolute_error: 4.7671\n",
            "Epoch 21/100\n",
            "23/23 [==============================] - 0s 7ms/step - loss: 4.8574 - mean_absolute_error: 4.8574 - val_loss: 4.3462 - val_mean_absolute_error: 4.3462\n",
            "Epoch 22/100\n",
            "23/23 [==============================] - 0s 7ms/step - loss: 4.7268 - mean_absolute_error: 4.7268 - val_loss: 4.6201 - val_mean_absolute_error: 4.6201\n",
            "Epoch 23/100\n",
            "23/23 [==============================] - 0s 7ms/step - loss: 4.8202 - mean_absolute_error: 4.8202 - val_loss: 4.2824 - val_mean_absolute_error: 4.2824\n",
            "Epoch 24/100\n",
            "23/23 [==============================] - 0s 7ms/step - loss: 4.7749 - mean_absolute_error: 4.7749 - val_loss: 4.3582 - val_mean_absolute_error: 4.3582\n",
            "Epoch 25/100\n",
            "23/23 [==============================] - 0s 7ms/step - loss: 4.6755 - mean_absolute_error: 4.6755 - val_loss: 4.8430 - val_mean_absolute_error: 4.8430\n",
            "Epoch 26/100\n",
            "23/23 [==============================] - 0s 7ms/step - loss: 4.2896 - mean_absolute_error: 4.2896 - val_loss: 4.5231 - val_mean_absolute_error: 4.5231\n",
            "Epoch 27/100\n",
            "23/23 [==============================] - 0s 7ms/step - loss: 4.8658 - mean_absolute_error: 4.8658 - val_loss: 4.8406 - val_mean_absolute_error: 4.8406\n",
            "Epoch 28/100\n",
            "23/23 [==============================] - 0s 7ms/step - loss: 4.5356 - mean_absolute_error: 4.5356 - val_loss: 3.9943 - val_mean_absolute_error: 3.9943\n",
            "Epoch 29/100\n",
            "23/23 [==============================] - 0s 7ms/step - loss: 3.9647 - mean_absolute_error: 3.9647 - val_loss: 7.1853 - val_mean_absolute_error: 7.1853\n",
            "Epoch 30/100\n",
            "23/23 [==============================] - 0s 7ms/step - loss: 6.3758 - mean_absolute_error: 6.3758 - val_loss: 4.6867 - val_mean_absolute_error: 4.6867\n",
            "Epoch 31/100\n",
            "23/23 [==============================] - 0s 7ms/step - loss: 4.1839 - mean_absolute_error: 4.1839 - val_loss: 3.9873 - val_mean_absolute_error: 3.9873\n",
            "Epoch 32/100\n",
            "23/23 [==============================] - 0s 6ms/step - loss: 4.0523 - mean_absolute_error: 4.0523 - val_loss: 5.9325 - val_mean_absolute_error: 5.9325\n",
            "Epoch 33/100\n",
            "23/23 [==============================] - 0s 6ms/step - loss: 4.6123 - mean_absolute_error: 4.6123 - val_loss: 4.5835 - val_mean_absolute_error: 4.5835\n",
            "Epoch 34/100\n",
            "23/23 [==============================] - 0s 7ms/step - loss: 4.1713 - mean_absolute_error: 4.1713 - val_loss: 4.3996 - val_mean_absolute_error: 4.3996\n",
            "Epoch 35/100\n",
            "23/23 [==============================] - 0s 6ms/step - loss: 4.0472 - mean_absolute_error: 4.0472 - val_loss: 5.1030 - val_mean_absolute_error: 5.1030\n",
            "Epoch 36/100\n",
            "23/23 [==============================] - 0s 7ms/step - loss: 5.2888 - mean_absolute_error: 5.2888 - val_loss: 5.0030 - val_mean_absolute_error: 5.0030\n",
            "Epoch 37/100\n",
            "23/23 [==============================] - 0s 8ms/step - loss: 3.9467 - mean_absolute_error: 3.9467 - val_loss: 3.7797 - val_mean_absolute_error: 3.7797\n",
            "Epoch 38/100\n",
            "23/23 [==============================] - 0s 7ms/step - loss: 3.7335 - mean_absolute_error: 3.7335 - val_loss: 5.2513 - val_mean_absolute_error: 5.2513\n",
            "Epoch 39/100\n",
            "23/23 [==============================] - 0s 7ms/step - loss: 4.1983 - mean_absolute_error: 4.1983 - val_loss: 3.8741 - val_mean_absolute_error: 3.8741\n",
            "Epoch 40/100\n",
            "23/23 [==============================] - 0s 7ms/step - loss: 4.0721 - mean_absolute_error: 4.0721 - val_loss: 5.0483 - val_mean_absolute_error: 5.0483\n",
            "Epoch 41/100\n",
            "23/23 [==============================] - 0s 7ms/step - loss: 3.8903 - mean_absolute_error: 3.8903 - val_loss: 5.0805 - val_mean_absolute_error: 5.0805\n",
            "Epoch 42/100\n",
            "23/23 [==============================] - 0s 7ms/step - loss: 3.9124 - mean_absolute_error: 3.9124 - val_loss: 3.4486 - val_mean_absolute_error: 3.4486\n",
            "Epoch 43/100\n",
            "23/23 [==============================] - 0s 7ms/step - loss: 3.4872 - mean_absolute_error: 3.4872 - val_loss: 3.6411 - val_mean_absolute_error: 3.6411\n",
            "Epoch 44/100\n",
            "23/23 [==============================] - 0s 6ms/step - loss: 3.9100 - mean_absolute_error: 3.9100 - val_loss: 8.0506 - val_mean_absolute_error: 8.0506\n",
            "Epoch 45/100\n",
            "23/23 [==============================] - 0s 7ms/step - loss: 4.9850 - mean_absolute_error: 4.9850 - val_loss: 3.7280 - val_mean_absolute_error: 3.7280\n",
            "Epoch 46/100\n",
            "23/23 [==============================] - 0s 7ms/step - loss: 3.8587 - mean_absolute_error: 3.8587 - val_loss: 4.0236 - val_mean_absolute_error: 4.0236\n",
            "Epoch 47/100\n",
            "23/23 [==============================] - 0s 7ms/step - loss: 3.6011 - mean_absolute_error: 3.6011 - val_loss: 4.5565 - val_mean_absolute_error: 4.5565\n",
            "Epoch 48/100\n",
            "23/23 [==============================] - 0s 7ms/step - loss: 3.9827 - mean_absolute_error: 3.9827 - val_loss: 3.4406 - val_mean_absolute_error: 3.4406\n",
            "Epoch 49/100\n",
            "23/23 [==============================] - 0s 7ms/step - loss: 3.4870 - mean_absolute_error: 3.4870 - val_loss: 3.3879 - val_mean_absolute_error: 3.3879\n",
            "Epoch 50/100\n",
            "23/23 [==============================] - 0s 7ms/step - loss: 3.4622 - mean_absolute_error: 3.4622 - val_loss: 3.9606 - val_mean_absolute_error: 3.9606\n",
            "Epoch 51/100\n",
            "23/23 [==============================] - 0s 7ms/step - loss: 3.9649 - mean_absolute_error: 3.9649 - val_loss: 4.2763 - val_mean_absolute_error: 4.2763\n",
            "Epoch 52/100\n",
            "23/23 [==============================] - 0s 13ms/step - loss: 3.9311 - mean_absolute_error: 3.9311 - val_loss: 3.5789 - val_mean_absolute_error: 3.5789\n",
            "Epoch 53/100\n",
            "23/23 [==============================] - 0s 7ms/step - loss: 4.4945 - mean_absolute_error: 4.4945 - val_loss: 4.0532 - val_mean_absolute_error: 4.0532\n",
            "Epoch 54/100\n",
            "23/23 [==============================] - 0s 7ms/step - loss: 3.4578 - mean_absolute_error: 3.4578 - val_loss: 3.7680 - val_mean_absolute_error: 3.7680\n",
            "Epoch 55/100\n",
            "23/23 [==============================] - 0s 7ms/step - loss: 3.4980 - mean_absolute_error: 3.4980 - val_loss: 3.1930 - val_mean_absolute_error: 3.1930\n",
            "Epoch 56/100\n",
            "23/23 [==============================] - 0s 7ms/step - loss: 3.2838 - mean_absolute_error: 3.2838 - val_loss: 3.3478 - val_mean_absolute_error: 3.3478\n",
            "Epoch 57/100\n",
            "23/23 [==============================] - 0s 7ms/step - loss: 3.1831 - mean_absolute_error: 3.1831 - val_loss: 6.4692 - val_mean_absolute_error: 6.4692\n",
            "Epoch 58/100\n",
            "23/23 [==============================] - 0s 7ms/step - loss: 4.2436 - mean_absolute_error: 4.2436 - val_loss: 3.2633 - val_mean_absolute_error: 3.2633\n",
            "Epoch 59/100\n",
            "23/23 [==============================] - 0s 7ms/step - loss: 3.5287 - mean_absolute_error: 3.5287 - val_loss: 3.3405 - val_mean_absolute_error: 3.3405\n",
            "Epoch 60/100\n",
            "23/23 [==============================] - 0s 7ms/step - loss: 3.0893 - mean_absolute_error: 3.0893 - val_loss: 3.1038 - val_mean_absolute_error: 3.1038\n",
            "Epoch 61/100\n",
            "23/23 [==============================] - 0s 7ms/step - loss: 3.3239 - mean_absolute_error: 3.3239 - val_loss: 3.5857 - val_mean_absolute_error: 3.5857\n",
            "Epoch 62/100\n",
            "23/23 [==============================] - 0s 7ms/step - loss: 3.4854 - mean_absolute_error: 3.4854 - val_loss: 2.9746 - val_mean_absolute_error: 2.9746\n",
            "Epoch 63/100\n",
            "23/23 [==============================] - 0s 7ms/step - loss: 3.5214 - mean_absolute_error: 3.5214 - val_loss: 3.4519 - val_mean_absolute_error: 3.4519\n",
            "Epoch 64/100\n",
            "23/23 [==============================] - 0s 7ms/step - loss: 3.0549 - mean_absolute_error: 3.0549 - val_loss: 3.3513 - val_mean_absolute_error: 3.3513\n",
            "Epoch 65/100\n",
            "23/23 [==============================] - 0s 7ms/step - loss: 3.4849 - mean_absolute_error: 3.4849 - val_loss: 3.1426 - val_mean_absolute_error: 3.1426\n",
            "Epoch 66/100\n",
            "23/23 [==============================] - 0s 7ms/step - loss: 3.0374 - mean_absolute_error: 3.0374 - val_loss: 3.5112 - val_mean_absolute_error: 3.5112\n",
            "Epoch 67/100\n",
            "23/23 [==============================] - 0s 7ms/step - loss: 3.7194 - mean_absolute_error: 3.7194 - val_loss: 5.1625 - val_mean_absolute_error: 5.1625\n",
            "Epoch 68/100\n",
            "23/23 [==============================] - 0s 7ms/step - loss: 3.4060 - mean_absolute_error: 3.4060 - val_loss: 3.8526 - val_mean_absolute_error: 3.8526\n",
            "Epoch 69/100\n",
            "23/23 [==============================] - 0s 8ms/step - loss: 3.1461 - mean_absolute_error: 3.1461 - val_loss: 3.1205 - val_mean_absolute_error: 3.1205\n",
            "Epoch 70/100\n",
            "23/23 [==============================] - 0s 8ms/step - loss: 3.1076 - mean_absolute_error: 3.1076 - val_loss: 3.3110 - val_mean_absolute_error: 3.3110\n",
            "Epoch 71/100\n",
            "23/23 [==============================] - 0s 7ms/step - loss: 3.2010 - mean_absolute_error: 3.2010 - val_loss: 3.4683 - val_mean_absolute_error: 3.4683\n",
            "Epoch 72/100\n",
            "23/23 [==============================] - 0s 7ms/step - loss: 3.3687 - mean_absolute_error: 3.3687 - val_loss: 3.0644 - val_mean_absolute_error: 3.0644\n",
            "Epoch 73/100\n",
            "23/23 [==============================] - 0s 7ms/step - loss: 3.2858 - mean_absolute_error: 3.2858 - val_loss: 4.0703 - val_mean_absolute_error: 4.0703\n",
            "Epoch 74/100\n",
            "23/23 [==============================] - 0s 7ms/step - loss: 3.2881 - mean_absolute_error: 3.2881 - val_loss: 4.3474 - val_mean_absolute_error: 4.3474\n",
            "Epoch 75/100\n",
            "23/23 [==============================] - 0s 7ms/step - loss: 3.0535 - mean_absolute_error: 3.0535 - val_loss: 3.0964 - val_mean_absolute_error: 3.0964\n",
            "Epoch 76/100\n",
            "23/23 [==============================] - 0s 7ms/step - loss: 2.7102 - mean_absolute_error: 2.7102 - val_loss: 4.4501 - val_mean_absolute_error: 4.4501\n",
            "Epoch 77/100\n",
            "23/23 [==============================] - 0s 7ms/step - loss: 3.8951 - mean_absolute_error: 3.8951 - val_loss: 2.9978 - val_mean_absolute_error: 2.9978\n",
            "Epoch 78/100\n",
            "23/23 [==============================] - 0s 7ms/step - loss: 2.8417 - mean_absolute_error: 2.8417 - val_loss: 3.8338 - val_mean_absolute_error: 3.8338\n",
            "Epoch 79/100\n",
            "23/23 [==============================] - 0s 7ms/step - loss: 3.9151 - mean_absolute_error: 3.9151 - val_loss: 2.8982 - val_mean_absolute_error: 2.8982\n",
            "Epoch 80/100\n",
            "23/23 [==============================] - 0s 7ms/step - loss: 3.0078 - mean_absolute_error: 3.0078 - val_loss: 2.8262 - val_mean_absolute_error: 2.8262\n",
            "Epoch 81/100\n",
            "23/23 [==============================] - 0s 7ms/step - loss: 3.0688 - mean_absolute_error: 3.0688 - val_loss: 3.0199 - val_mean_absolute_error: 3.0199\n",
            "Epoch 82/100\n",
            "23/23 [==============================] - 0s 8ms/step - loss: 2.8136 - mean_absolute_error: 2.8136 - val_loss: 3.2723 - val_mean_absolute_error: 3.2723\n",
            "Epoch 83/100\n",
            "23/23 [==============================] - 0s 7ms/step - loss: 2.9073 - mean_absolute_error: 2.9073 - val_loss: 3.1402 - val_mean_absolute_error: 3.1402\n",
            "Epoch 84/100\n",
            "23/23 [==============================] - 0s 7ms/step - loss: 3.0112 - mean_absolute_error: 3.0112 - val_loss: 2.8773 - val_mean_absolute_error: 2.8773\n",
            "Epoch 85/100\n",
            "23/23 [==============================] - 0s 7ms/step - loss: 3.2145 - mean_absolute_error: 3.2145 - val_loss: 3.1081 - val_mean_absolute_error: 3.1081\n",
            "Epoch 86/100\n",
            "23/23 [==============================] - 0s 7ms/step - loss: 3.9922 - mean_absolute_error: 3.9922 - val_loss: 3.1724 - val_mean_absolute_error: 3.1724\n",
            "Epoch 87/100\n",
            "23/23 [==============================] - 0s 7ms/step - loss: 2.8258 - mean_absolute_error: 2.8258 - val_loss: 2.9526 - val_mean_absolute_error: 2.9526\n",
            "Epoch 88/100\n",
            "23/23 [==============================] - 0s 8ms/step - loss: 2.9878 - mean_absolute_error: 2.9878 - val_loss: 2.9207 - val_mean_absolute_error: 2.9207\n",
            "Epoch 89/100\n",
            "23/23 [==============================] - 0s 7ms/step - loss: 2.6520 - mean_absolute_error: 2.6520 - val_loss: 3.4728 - val_mean_absolute_error: 3.4728\n",
            "Epoch 90/100\n",
            "23/23 [==============================] - 0s 7ms/step - loss: 3.0672 - mean_absolute_error: 3.0672 - val_loss: 4.2032 - val_mean_absolute_error: 4.2032\n",
            "Epoch 91/100\n",
            "23/23 [==============================] - 0s 8ms/step - loss: 3.5152 - mean_absolute_error: 3.5152 - val_loss: 3.1873 - val_mean_absolute_error: 3.1873\n",
            "Epoch 92/100\n",
            "23/23 [==============================] - 0s 7ms/step - loss: 3.6304 - mean_absolute_error: 3.6304 - val_loss: 3.2569 - val_mean_absolute_error: 3.2569\n",
            "Epoch 93/100\n",
            "23/23 [==============================] - 0s 7ms/step - loss: 3.1140 - mean_absolute_error: 3.1140 - val_loss: 8.0676 - val_mean_absolute_error: 8.0676\n",
            "Epoch 94/100\n",
            "23/23 [==============================] - 0s 7ms/step - loss: 5.1392 - mean_absolute_error: 5.1392 - val_loss: 4.0731 - val_mean_absolute_error: 4.0731\n",
            "Epoch 95/100\n",
            "23/23 [==============================] - 0s 7ms/step - loss: 2.7776 - mean_absolute_error: 2.7776 - val_loss: 4.7726 - val_mean_absolute_error: 4.7726\n",
            "Epoch 96/100\n",
            "23/23 [==============================] - 0s 8ms/step - loss: 3.9956 - mean_absolute_error: 3.9956 - val_loss: 5.9480 - val_mean_absolute_error: 5.9480\n",
            "Epoch 97/100\n",
            "23/23 [==============================] - 0s 8ms/step - loss: 4.7136 - mean_absolute_error: 4.7136 - val_loss: 3.3486 - val_mean_absolute_error: 3.3486\n",
            "Epoch 98/100\n",
            "23/23 [==============================] - 0s 7ms/step - loss: 3.8766 - mean_absolute_error: 3.8766 - val_loss: 3.4159 - val_mean_absolute_error: 3.4159\n",
            "Epoch 99/100\n",
            "23/23 [==============================] - 0s 7ms/step - loss: 2.9667 - mean_absolute_error: 2.9667 - val_loss: 3.0000 - val_mean_absolute_error: 3.0000\n",
            "Epoch 100/100\n",
            "23/23 [==============================] - 0s 8ms/step - loss: 2.8782 - mean_absolute_error: 2.8782 - val_loss: 3.3571 - val_mean_absolute_error: 3.3571\n"
          ],
          "name": "stdout"
        },
        {
          "output_type": "execute_result",
          "data": {
            "text/plain": [
              "<tensorflow.python.keras.callbacks.History at 0x7fb5a273a8d0>"
            ]
          },
          "metadata": {
            "tags": []
          },
          "execution_count": 12
        }
      ]
    },
    {
      "cell_type": "code",
      "metadata": {
        "id": "HH_dvGGhqyK-"
      },
      "source": [
        "prediction = model.predict(X_test)\r\n"
      ],
      "execution_count": 13,
      "outputs": []
    },
    {
      "cell_type": "code",
      "metadata": {
        "id": "GJJEpc3Wq482",
        "colab": {
          "base_uri": "https://localhost:8080/",
          "height": 283
        },
        "outputId": "5fedec0a-c223-446f-f20b-85c716f7e443"
      },
      "source": [
        "plt.scatter(y_test,prediction)"
      ],
      "execution_count": 19,
      "outputs": [
        {
          "output_type": "execute_result",
          "data": {
            "text/plain": [
              "<matplotlib.collections.PathCollection at 0x7fb5a27fad30>"
            ]
          },
          "metadata": {
            "tags": []
          },
          "execution_count": 19
        },
        {
          "output_type": "display_data",
          "data": {
            "image/png": "[encoded data removed]",
            "text/plain": [
              "<Figure size 432x288 with 1 Axes>"
            ]
          },
          "metadata": {
            "tags": [],
            "needs_background": "light"
          }
        }
      ]
    }
  ]
}